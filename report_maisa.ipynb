{
  "nbformat": 4,
  "nbformat_minor": 0,
  "metadata": {
    "kernelspec": {
      "display_name": "Python 3",
      "language": "python",
      "name": "python3"
    },
    "language_info": {
      "codemirror_mode": {
        "name": "ipython",
        "version": 3
      },
      "file_extension": ".py",
      "mimetype": "text/x-python",
      "name": "python",
      "nbconvert_exporter": "python",
      "pygments_lexer": "ipython3",
      "version": "3.7.7"
    },
    "colab": {
      "name": "Copy of report.ipynb",
      "provenance": [],
      "collapsed_sections": [],
      "toc_visible": true
    },
    "accelerator": "GPU"
  },
  "cells": [
    {
      "cell_type": "markdown",
      "metadata": {
        "id": "_c9eyrVzZp5u",
        "colab_type": "text"
      },
      "source": [
        "<div align=\"center\">\n",
        "    <h1> MO416 - IC/Unicamp  </h1>\n",
        "    <h2> Projeto 2 - Aplicação de Algoritmos Genéticos na Maximização de Funções </h2>\n",
        "</div>\n",
        "\n",
        "<table>\n",
        "<tr><td style=\"text-align:left\">Christian Maekawa</td>  <td>231867</td>  </tr>\n",
        "<tr><td style=\"text-align:left\">Giovane de Morais</td>  <td>192683</td>  </tr>\n",
        "<tr><td style=\"text-align:left\">Maisa Silva      </td>  <td>181831</td>  </tr>\n",
        "<tr><td style=\"text-align:left\">Matteus Vargas   </td>  <td>262885</td>  </tr>\n",
        "<tr><td style=\"text-align:left\">Stéfani Fernandes</td>  <td>147939</td>  </tr>\n",
        "</table>"
      ]
    },
    {
      "cell_type": "markdown",
      "metadata": {
        "id": "074EEAJu9zBh",
        "colab_type": "text"
      },
      "source": [
        "#1 - Introdução\n",
        "\n",
        "Matias Vargas Maekawa Fernandes Moraes e Silva (MVMFMS) é um diretor de hospital que visa atender o máximo de pacientes possível em sua unidade hospitalar. Para isso, ele precisa saber quantos funcionarios ele deverá contratar e qual o seu ganho com isso.\n",
        "\n",
        "A sua equipe técnica projetou uma solução que toma a quantidade de recepcionistas, técnicos, médicos, enfermeiras na sala de tratamento e enfermeiras na sala de emergência, sendo representadas respectivamente pelas variáveis x1, x2, x3, x4, x5.\n",
        "\n",
        "Este problema é baseado em um caso real definido no trabalho de Ahmed e Alkhamis (2009).\n",
        "\n",
        "Neste trabalho instanciamos um metamodelo, baseado em redes neurais, que consome um dataset doletado para este caso. Em seguida apresentamos o algoritmos genético desenvolvido que deverá maximizar as entradas a fim de definir os melhores valores possíveis para cada variável.\n",
        "\n",
        "- Equação Matemática, metamodelo, gerada por progração genética e que será otimizada:\n",
        "\n",
        "$y1 = 1.113x_{2} + 0.701x_{2}x_{3} + 0.207x_{2}x_{5} + 0.021x_{1}x_{5} - 0.435x_{2}^{2} - 0.013x_{2}x_{5}^{2} - 0.092 x_{2}x_{3}^{2}$."
      ]
    },
    {
      "cell_type": "code",
      "metadata": {
        "id": "nPeuPzfK-kq6",
        "colab_type": "code",
        "colab": {}
      },
      "source": [
        "#import extra_lib.metamodel as mmodel\n",
        "import matplotlib.pyplot as plt\n",
        "import numpy\n",
        "import random\n",
        "#import tools.monitor as monitor"
      ],
      "execution_count": 0,
      "outputs": []
    },
    {
      "cell_type": "code",
      "metadata": {
        "id": "21SBOvqw_BxT",
        "colab_type": "code",
        "colab": {}
      },
      "source": [
        "# Instanciação das variáveis globais principais\n",
        "best = -100000\n",
        "high_bound = 12  # Limite superior, útil para estimar as gerações\n",
        "populations = ([[random.randint(1, 12) for x in range(5)] for i in range(4)])  # População inicial\n",
        "parents = []  # Pais nos crossovers\n",
        "melhores_scores = []  # Eleição dos melhores fitness\n",
        "melhores_cromossomos = []  # Eleição dos melhores cromossomos\n",
        "crossover_results = []  # Resultado dos crossovers\n",
        "scores = []\n",
        "geracoes = []\n",
        "mem = []\n",
        "cpu = []\n",
        "pid = []\n"
      ],
      "execution_count": 0,
      "outputs": []
    },
    {
      "cell_type": "code",
      "metadata": {
        "id": "8Yfu0la4_dp1",
        "colab_type": "code",
        "colab": {}
      },
      "source": [
        "# Função para avaliar o uso de recursos\n",
        "def uso_recursos():\n",
        "    global mem, cpu, pid\n",
        "    memoria, processador, processos = monitor.monitor()\n",
        "    mem.append(memoria)\n",
        "    cpu.append(processador)\n",
        "    pid.append(processos)"
      ],
      "execution_count": 0,
      "outputs": []
    },
    {
      "cell_type": "markdown",
      "metadata": {
        "id": "3WyuKH9G_oNE",
        "colab_type": "text"
      },
      "source": [
        "# 2 - Algoritmos Genéticos\n",
        "\n",
        "Algoritmos genéticos tem como base a teoria da evolução das espécies por seleção natural de Charles Darwin. O mesmo afirmou que os organismos com maiores chances de sobrevivência são os mais adaptados aos desafios ambientais que está inserido. Este indivíduo, por consequência, gerará um número maior de descendentes que os menos favorecidos, o que se caracteriza por uma espécie de “seleção” do meio aos conjunto de indivíduos de uma população. \n",
        "\n",
        "A seleção descrita por Darwin obedece determinados critérios como: os indivíduos de uma mesma espécie não são idênticos entre si; todo indivíduo tem capacidade de reprodução, e de receber mutações, porém o sucesso da descendência será determinada pela adaptabilidade ao ambiente de acordo com as variações genéticas mais vantajosas. A seguir são listados os principais conceitos, alguns serão descritos nas seções seguintes:\n",
        "\n",
        "\n",
        "\n",
        "*   **Cromossomo / Indivíduo**: sequência de informações que resolve ou se aproxima da resolução do problema.\n",
        "*   **Gene**: informação unitária que compõe o indivíduo.\n",
        "*   **População**\n",
        "*   **Geração**\n",
        "*   **Mutação**\n",
        "*   **Crossover**\n",
        "*   **Função Fitness**\n",
        "*   **Otimização**\n",
        "*   **Parâmetros**:* quaisquer informações utilizadas para definir os objetivos da evolução.\n",
        "\n",
        "\n",
        "\n",
        "\n"
      ]
    },
    {
      "cell_type": "markdown",
      "metadata": {
        "id": "CYg8hSGPBF_0",
        "colab_type": "text"
      },
      "source": [
        "##2.1 - Função Fitness\n",
        "\n",
        "Cálculo da aptidão de indivíduo. Métrica que define quão “evoluido” um indivíduo está em relação ao objetivo, o quanto ele foi otimizado em relação aos demais da população.\n"
      ]
    },
    {
      "cell_type": "code",
      "metadata": {
        "id": "jV04pzN0BR14",
        "colab_type": "code",
        "colab": {}
      },
      "source": [
        "###\n",
        "#\n",
        "# Função que avalia o desempenho de cada indivíduo. Ou seja os cromossomos, que representam os valores\n",
        "# das variáveis, maximizam o resultado da função objetivo. \n",
        "#\n",
        "###\n",
        "\n",
        "def fitness_score():  \n",
        "    global populations, best, melhores_scores, melhores_cromossomos, scores, geracoes\n",
        "    fit_value = []\n",
        "    print()\n",
        "    for i in range(len(populations)):\n",
        "        \n",
        "        # Aqui é aplicada a predição com cada um dos cromossomos da população.\n",
        "        # Seu resultado é guardado em uma lista\n",
        "        fit_value.append(test.predict(populations[i]))  \n",
        "        \n",
        "\n",
        "    print(f'Valores de fitness: {fit_value}')\n",
        "    print()\n",
        "    \n",
        "    # Associa-se os melhores cromossomos aos seus scores, ordenado pelo score\n",
        "    fit_value, populations = zip(*sorted(zip(fit_value, populations), reverse=True))\n",
        "    # Variável que guarda o melhor desempenho da geração\n",
        "    best = fit_value[0] \n",
        "    # População ordenada pelo score, do melhor ao pior. Esse esquema será base para o crossover\n",
        "    print( f'População ordenada por score: {populations}')  \n",
        "    scores.append(best)\n",
        "    # Guardam os scores ordenados\n",
        "    melhores_scores.append(best)  \n",
        "    # Guarda o melhor cromossomo da geração\n",
        "    melhores_cromossomos.append(populations[0])  "
      ],
      "execution_count": 0,
      "outputs": []
    },
    {
      "cell_type": "markdown",
      "metadata": {
        "id": "j2vIj2v4DQyZ",
        "colab_type": "text"
      },
      "source": [
        "## 2.2 - Gerações \n",
        "A cada execução do algoritmo genético uma nova geração é gerada.\n",
        "\n",
        "### 2.2.1 - População\n",
        "Qualquer grupo de indivíduos que leva (ou vai levar) as informações de cromossomos que serão estudados pelo Algoritmo Genético."
      ]
    },
    {
      "cell_type": "markdown",
      "metadata": {
        "id": "l02PU_TNDUMy",
        "colab_type": "text"
      },
      "source": [
        "### 2.2.2 - Seleção\n",
        "\n",
        "Texto do Geovane"
      ]
    },
    {
      "cell_type": "code",
      "metadata": {
        "id": "Q4Ri3g6vDZ59",
        "colab_type": "code",
        "colab": {}
      },
      "source": [
        "# Escolhem-se os pais\n",
        "# O crossover se dá pelo cruzamento do melhor com o pior, do segundo melhor com o segundo pior\n",
        "def selectparent():  \n",
        "    global parents, populations\n",
        "    parents.clear()\n",
        "    parents.append(populations[0])\n",
        "    parents.append(populations[3])\n",
        "    parents.append(populations[1])\n",
        "    parents.append(populations[2])\n",
        "    print(f'Casais formados {parents}')\n",
        "    print()"
      ],
      "execution_count": 0,
      "outputs": []
    },
    {
      "cell_type": "markdown",
      "metadata": {
        "id": "-XID5etTEWQU",
        "colab_type": "text"
      },
      "source": [
        "### 2.2.3 - Reprodução\n",
        "Quaisquer alterações “sexuadas” (troca de informações entre individuos) no cromossomo que sejam transferidas à próxima geração podendo, ou não, causar alterações na população."
      ]
    },
    {
      "cell_type": "code",
      "metadata": {
        "id": "ElScHnApEb54",
        "colab_type": "code",
        "colab": {}
      },
      "source": [
        "# Para formar novos filhos, pega-se a primeira metade da mãe e junta com a segunda metade do pai\n",
        "# O segundo filho, pegam as metades inversas, até serem formados 4 novos filhos, que\n",
        "# Irão substituir por completo a geração anterior, sem elitismo\n",
        "def crossover():\n",
        "    global parents, crossover_results, populations\n",
        "    cross_point = 2  # Ponto de corte no cromossomo\n",
        "    crossover_results.clear()\n",
        "    \n",
        "    crossover_results.append(parents[0][0:cross_point + 1] + parents[1][cross_point + 1:])\n",
        "    crossover_results.append(parents[0][cross_point + 1:] + parents[1][0:cross_point + 1])\n",
        "    crossover_results.append(parents[2][0:cross_point + 1] + parents[3][cross_point + 1:])\n",
        "    crossover_results.append(parents[2][cross_point + 1:] + parents[3][0:cross_point + 1])\n",
        "\n",
        "    print()\n",
        "    print(f'Crossover feito: {crossover_results}')"
      ],
      "execution_count": 0,
      "outputs": []
    },
    {
      "cell_type": "markdown",
      "metadata": {
        "id": "q88aG_ugFDpE",
        "colab_type": "text"
      },
      "source": [
        "### 2.2.4 - Mutação\n",
        "Quaisquer alterações “não sexuadas” no cromossomo que sejam transferidas à próxima geração podendo, ou não, causar alterações na população."
      ]
    },
    {
      "cell_type": "code",
      "metadata": {
        "id": "FrbYnwf2FMgY",
        "colab_type": "code",
        "colab": {}
      },
      "source": [
        "# O esquema de mutação funciona como um ajuste do crossover\n",
        "# Apelidado aqui de \"correção genética\", a mutação anda de gene em gene verificando se\n",
        "# O limite superior está correto. Caso não esteja, um novo valor, dentro do seu respectivo\n",
        "# limite é sorteado, permitindo que a regra dos limites seja mantida\n",
        "def mutation():\n",
        "    global populations, crossover_results\n",
        "    \n",
        "    mute = random.randint(0, 100)\n",
        "    if mute == 2:\n",
        "        for i in range(4):\n",
        "            for x in range(5):\n",
        "                if (x == 0 and (crossover_results[i][x] not in range(1, 3))):\n",
        "                    crossover_results[i][x] = random.randint(2, 3)\n",
        "\n",
        "                if (x == 1 and (crossover_results[i][x] not in range(1, 4))):\n",
        "                    crossover_results[i][x] = random.randint(3, 4)\n",
        "\n",
        "                if (x == 2 and (crossover_results[i][x] not in range(1, 5))):\n",
        "                    crossover_results[i][x] = random.randint(4, 5)\n",
        "\n",
        "                if (x == 3 and (crossover_results[i][x] not in range(1, 6))):\n",
        "                    crossover_results[i][x] = random.randint(5, 6)\n",
        "\n",
        "                if (x == 4 and (crossover_results[i][x] not in range(1, 12))):\n",
        "                    crossover_results[i][x] = random.randint(6, 12)\n",
        "\n",
        "    populations = crossover_results\n",
        "    print()\n",
        "    print(f'População pós-mutação: {populations}')"
      ],
      "execution_count": 0,
      "outputs": []
    },
    {
      "cell_type": "code",
      "metadata": {
        "id": "1FZRVN_GGfn0",
        "colab_type": "code",
        "colab": {}
      },
      "source": [
        "# O ajuste aqui serve para corrigir falhas que possa ter ocorrido na criação\n",
        "# da população inicial, em função dos limites superiores de cada variável\n",
        "def ajusta_populacao():\n",
        "    global populations\n",
        "    for i in range(4):\n",
        "        for x in range(5):\n",
        "            if (x == 0):\n",
        "                populations[i][x] = random.randint(1, 3)\n",
        "            if (x == 1):\n",
        "                populations[i][x] = random.randint(2, 4)\n",
        "            if (x == 2):\n",
        "                populations[i][x] = random.randint(3, 5)\n",
        "            if (x == 3):\n",
        "                populations[i][x] = random.randint(4, 6)\n",
        "            if (x == 4):\n",
        "                populations[i][x] = random.randint(10, 12)"
      ],
      "execution_count": 0,
      "outputs": []
    },
    {
      "cell_type": "code",
      "metadata": {
        "id": "fQNaie46GoWD",
        "colab_type": "code",
        "colab": {}
      },
      "source": [
        "def plotar_grafico(geracoes, scores):\n",
        "    global mem, cpu, pid\n",
        "    aux = []\n",
        "    for i in range(len(scores)):\n",
        "        aux.append(float(scores[i]))\n",
        "\n",
        "    plt.xlabel('Gerações')\n",
        "    plt.ylabel('Fitness')\n",
        "    plt.plot(geracoes, aux)\n",
        "    plt.show()\n",
        "    print()\n",
        "    print(\"Monitoramos o uso de memória e cpu ao longo das gerações, gostaria de ver os gráficos de desempenho?\")\n",
        "    print()\n",
        "    print(\"1 - Sim\")\n",
        "    print(\"0 - Não\")\n",
        "    print()\n",
        "    segue = int(input())\n",
        "    if (segue == 1):\n",
        "        plt.xlabel('Gerações')\n",
        "        plt.ylabel('Memória')\n",
        "        plt.plot(geracoes, mem)\n",
        "        plt.show()\n",
        "\n",
        "        plt.xlabel('Gerações')\n",
        "        plt.ylabel('CPU')\n",
        "        plt.plot(geracoes, cpu)\n",
        "        plt.show()\n"
      ],
      "execution_count": 0,
      "outputs": []
    },
    {
      "cell_type": "markdown",
      "metadata": {
        "id": "egp6TPS3GeaU",
        "colab_type": "text"
      },
      "source": [
        "## 2.3 -Otimização\n",
        "Processo de execução da evolução da população, através de regras pré definidas, com o objetivo de atingir, ou pelo menos se aproximar, um parâmetro “ideal”. Uma das formas mais comuns de se realizar uma otimização é através da descrição do ambiente de uma ou mais funções matemáticas onde a otimização tem como objetivo busca minimizar ou maximizar as mesmas através da escolha sistemática dos valores de variáveis reais ou inteiras dentro de um conjunto viável."
      ]
    },
    {
      "cell_type": "code",
      "metadata": {
        "id": "RvsiOW2iGqVM",
        "colab_type": "code",
        "colab": {
          "base_uri": "https://localhost:8080/",
          "height": 251
        },
        "outputId": "6901b0e0-cb07-4f10-a783-c058f71f636a"
      },
      "source": [
        "M = generations()\n",
        "ajusta_populacao()  # O ajuste aqui serve para corrigir falhas que possa ter ocorrido na criação\n",
        "# da população inicial, em função dos limites superiores de cada variável\n",
        "for i in range(M):\n",
        "    geracoes.append(i)\n",
        "    print()\n",
        "    print()\n",
        "    print(\n",
        "        f'-------------------------------------- Iniciando o AG, geração {i} --------------------------------------')\n",
        "    print()\n",
        "    print()\n",
        "    print(f'População inicial da geração {i}: {populations}')\n",
        "    print()\n",
        "    print('-------------------------------------- Aplicando o fitness --------------------------------------')\n",
        "    fitness_score()\n",
        "    print()\n",
        "    print('-------------------------------------- Selecionando os pais --------------------------------------')\n",
        "    selectparent()\n",
        "    print()\n",
        "    print('-------------------------------------- Aplicando o crossover --------------------------------------')\n",
        "    print()\n",
        "    crossover()\n",
        "    print('-------------------------------------- Aplicando a mutação --------------------------------------')\n",
        "    mutation()\n",
        "    print()\n",
        "    uso_recursos()\n",
        "\n",
        "print()\n",
        "# Informa para o usuário os resultados\n",
        "melhores_scores, melhores_cromossomos = zip(*sorted(zip(melhores_scores, melhores_cromossomos), reverse=True))\n",
        "plotar_grafico(geracoes, scores)\n",
        "print(f'Melhor fitness {melhores_scores[0]}')\n",
        "print()\n",
        "print(f'Melhor cromossomo {melhores_cromossomos[0]}')\n",
        "print()"
      ],
      "execution_count": 15,
      "outputs": [
        {
          "output_type": "error",
          "ename": "NameError",
          "evalue": "ignored",
          "traceback": [
            "\u001b[0;31m---------------------------------------------------------------------------\u001b[0m",
            "\u001b[0;31mNameError\u001b[0m                                 Traceback (most recent call last)",
            "\u001b[0;32m<ipython-input-15-52f31292c275>\u001b[0m in \u001b[0;36m<module>\u001b[0;34m()\u001b[0m\n\u001b[0;32m----> 1\u001b[0;31m \u001b[0mM\u001b[0m \u001b[0;34m=\u001b[0m \u001b[0mgenerations\u001b[0m\u001b[0;34m(\u001b[0m\u001b[0;34m)\u001b[0m\u001b[0;34m\u001b[0m\u001b[0;34m\u001b[0m\u001b[0m\n\u001b[0m\u001b[1;32m      2\u001b[0m \u001b[0majusta_populacao\u001b[0m\u001b[0;34m(\u001b[0m\u001b[0;34m)\u001b[0m  \u001b[0;31m# O ajuste aqui serve para corrigir falhas que possa ter ocorrido na criação\u001b[0m\u001b[0;34m\u001b[0m\u001b[0;34m\u001b[0m\u001b[0m\n\u001b[1;32m      3\u001b[0m \u001b[0;31m# da população inicial, em função dos limites superiores de cada variável\u001b[0m\u001b[0;34m\u001b[0m\u001b[0;34m\u001b[0m\u001b[0;34m\u001b[0m\u001b[0m\n\u001b[1;32m      4\u001b[0m \u001b[0;32mfor\u001b[0m \u001b[0mi\u001b[0m \u001b[0;32min\u001b[0m \u001b[0mrange\u001b[0m\u001b[0;34m(\u001b[0m\u001b[0mM\u001b[0m\u001b[0;34m)\u001b[0m\u001b[0;34m:\u001b[0m\u001b[0;34m\u001b[0m\u001b[0;34m\u001b[0m\u001b[0m\n\u001b[1;32m      5\u001b[0m     \u001b[0mgeracoes\u001b[0m\u001b[0;34m.\u001b[0m\u001b[0mappend\u001b[0m\u001b[0;34m(\u001b[0m\u001b[0mi\u001b[0m\u001b[0;34m)\u001b[0m\u001b[0;34m\u001b[0m\u001b[0;34m\u001b[0m\u001b[0m\n",
            "\u001b[0;31mNameError\u001b[0m: name 'generations' is not defined"
          ]
        }
      ]
    },
    {
      "cell_type": "markdown",
      "metadata": {
        "id": "oEavAY5lHUAS",
        "colab_type": "text"
      },
      "source": [
        "#4 - Experimentos\n",
        "........."
      ]
    },
    {
      "cell_type": "markdown",
      "metadata": {
        "id": "1_w1b1ACHVVb",
        "colab_type": "text"
      },
      "source": [
        "#5 - Conclusão\n",
        "..........."
      ]
    }
  ]
}