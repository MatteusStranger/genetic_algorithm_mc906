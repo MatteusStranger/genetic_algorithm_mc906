{
 "cells": [
  {
   "cell_type": "markdown",
   "metadata": {},
   "source": [
    "# Quiz - Genetic Algorithms\n",
    "c231867@g.unicamp.br\n",
    "\n",
    "Esse notebook contém a resolução de todos os exercícios com código e ideia utilizada."
   ]
  },
  {
   "cell_type": "code",
   "execution_count": 2,
   "metadata": {},
   "outputs": [],
   "source": [
    "import numpy as np\n",
    "import matplotlib.pyplot as plt"
   ]
  },
  {
   "cell_type": "markdown",
   "metadata": {},
   "source": [
    "# Primeiro exercício"
   ]
  },
  {
   "cell_type": "markdown",
   "metadata": {},
   "source": [
    "## Maximizar a função\n",
    "\n",
    "Para maximizar a função \n",
    "$f = 5x_{1} - 3 x_{2}x_{3} + x_{3} - 2 x_{4}$ não é recomendado maximizar a função apenas utilizando um intervalo de 0 até $2^{4} -1$ com representação de 15 números positivos. É nessário ter um intervalo de negativos e positivos por causa dos termos da equação. \n",
    "\n",
    "Para conversão do número binário em um intervalo de números negativos positivos foi utilizada a técnica de quantização.\n",
    "\n",
    "$quantization = \\frac{limiteSuperior - limiteInferior}{2^{4}-1}$\n",
    "\n",
    "Para intervalo -5 até 5:\n",
    "\n",
    "1 var de bit representa $= \\frac{5-(-5)}{15} = \\frac{10}{15} \\approx 0,67$ no intervalo -5 até 5\n",
    "\n",
    "Para ter o valor nesse intervalo. Utilizou-se a equação:\n",
    "\n",
    "numero convertido= $\\sum_{i=0}^{N=4}\\sum_{j=0}^{N=4} = x_{i}*2^{j}*quantization + limiteInferior$\n",
    "\n",
    "Exemplo para intervalo de -5 até 5 com valor `1111`:\n",
    "\n",
    "Somatória = $0110 = 1*2^{0} + 1*2^{1} + 1*2^{2} + 1*2^{3} = 1 + 2 + 4 + 8 = 15$\n",
    "\n",
    "numero convertido $= 15*0.67 + (-5) = 10-5 = 5$ \n",
    "\n",
    "Quanto maior representação de bits maior precisão dentro desse intervalo.\n",
    "\n",
    "## Análise da função\n",
    "\n",
    "O primeiro termo $5x_{1}$ pode ser positivo, mas o segundo termo, terceiro e quarto precisam de representações negativas. No caso da variável $x_{2}$ necessitará ser negativa, enquanto que $x_{3}$ pode ser positivo desde que $x_{2}$ seja negativo e $x_{4}$ precisa ser negativo.\n",
    "\n",
    "Função objetiva $f = 5x_{1} - 3 x_{2}x_{3} + x_{3} - 2 x_{4}$\n",
    "\n",
    "Reprodução assexuada do melhor indivíduo ou um aleatório quando aparenta ficar preso num ótimo local.\n",
    "\n",
    "Seleção é por meio do maior resultado gerado pela função objetiva e a mutação quando identifica que variabilidade é baixa.\n",
    "\n",
    "## Resolução utilizando variação do algoritmo genético\n",
    "\n",
    "\n",
    "\n",
    "Foi utilizado `[0110 1100 1011 0001]` como cromossomo inicial.  Não foi utilizado reprodução cruzada de dois indivíduo e sim assexuada com uma taxa variação bem grande em cada indivíduo. O cruzamento para cada geração é feita com a permutações do melhor cromossomo único, fazendo rotação de 2 para esquerda e fazendo mutação quando a função objetiva era negativa ou se a moda dos cromossomos gerados pela rotação eram muito parecidas com o melhor. Neste caso é feita a mutação(misturar elementos) de uma variável $x_{1}$ ou $x_{2}$ ou $x_{3}$ ou $x_{4}$.\n",
    "\n",
    "### Demonstração\n",
    "```\n",
    "Primeira geração [0110 1100 1011 0001]\n",
    "                 [1011 0010 1100 0101] => função obj = -9 sorteia  x3 para mudar 1100 => 1010\n",
    "                 [1100 1010 1001 0110] => função obj = -7 sorteia  x4 para mudar 0110 => 1100\n",
    "                 [0010 1010 0111 0011] => função obj = 8.3 maior valor\n",
    "                 ... até completar uma volta\n",
    "\n",
    "Se o melhor cromossomo for [0010 1010 0111 0011] => função obj = 8.3 maior valor \n",
    "segunda geração escolhe ele para iniciar a próxima geração\n",
    "\n",
    "Segunda geração [0010 1010 0111 0011] => função obj = 8.3\n",
    "                ...\n",
    "\n",
    "Se o resultado for mesmo do anteior é escolhido um cromossomo aleatório para próxima geração,\n",
    "o melhor resultado local fica armazenado para ser comparado no futuro\n",
    "```\n",
    "\n"
   ]
  },
  {
   "cell_type": "code",
   "execution_count": 3,
   "metadata": {},
   "outputs": [],
   "source": [
    "# Setup inicial\n",
    "low_bound = -5  # Limite inferior\n",
    "high_bound = 5 # Limite superior\n",
    "exp=np.arange(4) # Exponente de 0 até 4 (4 bits de precisão)\n",
    "quantization = (high_bound - low_bound) /(2**4-1) # quantização\n",
    "fc = lambda x,exp:np.sum(x*2**exp)*quantization + low_bound # decoficação\n",
    "fy = lambda x1,x2,x3,x4: 5*fc(x1,exp) - 3*fc(x2,exp)*fc(x3,exp) \\\n",
    "                         + fc(x3,exp) - 2*fc(x4,exp) # função objetiva\n",
    "s0 = np.array([0,1,1,0, \n",
    "               1,1,0,0,\n",
    "               1,0,1,1,\n",
    "               0,0,0,1]) # Estado inicial\n",
    "\n",
    "M = 1000 # Numero de geração\n",
    "score = [] # melhor resultado da função objetiva\n",
    "score_fit = [] # Armazena o melhor da geração"
   ]
  },
  {
   "cell_type": "code",
   "execution_count": 4,
   "metadata": {},
   "outputs": [],
   "source": [
    "def cromo(s0):\n",
    "    \"\"\" Separa cromossomo em 4 partes\"\"\"\n",
    "    vet = []\n",
    "    vet.append(s0[0:4])\n",
    "    vet.append(s0[4:8])\n",
    "    vet.append(s0[8:12])\n",
    "    vet.append(s0[12:])\n",
    "    return vet"
   ]
  },
  {
   "cell_type": "code",
   "execution_count": 22,
   "metadata": {},
   "outputs": [],
   "source": [
    "for i in range(M):\n",
    "    cromosome = [] # Guarda os cromossomos com crossover\n",
    "    fit = [] # Guarda saída da função objetiva\n",
    "    variables = [] # Guarda a saída de cada variável\n",
    "    for j in range(len(s0)//2 + 1): # Rotaciona até dar uma volta completa\n",
    "        v = cromo(s0) # quebra em quatro partes\n",
    "        temp_max = fy(v[0],v[1],v[2],v[3]) # Retorna a função objetiva\n",
    "        fit.append(temp_max) # guarda função objetiva\n",
    "        cromosome.append(s0) # guarda o cromossomo\n",
    "        variables.append([fc(v[0],exp),fc(v[1],exp),\n",
    "                          fc(v[2],exp),fc(v[3],exp)])# Guarda variáveis\n",
    "        if (np.min(temp_max) < 0) | (np.median(fit) == np.max(fit)): \n",
    "            # mutação se função obj negativa resultado repetido\n",
    "            pos = np.random.randint(4) # Escolhe uma das 4 variáveis\n",
    "            np.random.shuffle(v[pos]) # Embaralha os bits de umas da variável\n",
    "        s0 = list(v[0]) + list(v[1]) + list(v[2]) + list(v[3]) # junta partes\n",
    "        s0 = np.roll(s0,-2) # Faz crossover\n",
    "    nextGen=np.argmax(fit) # Pega o melhor resultado para próxima geração\n",
    "    score.append(np.max(fit)) # Armazena a melhor função obj\n",
    "    score_fit.append(cromosome[nextGen]) # Armazena o melhor cromossomo\n",
    "    if np.median(fit) == np.max(fit): \n",
    "        # Se  resultado do melhor cromossomo repetir ele escolhe um aleatório\n",
    "        # Faz mudatação em uma das posições  do cromossomo\n",
    "        s0 = cromosome[np.random.randint(len(fit))] # sorteia novo cromossomo\n",
    "        mutate = np.random.randint(len(s0)) # Escolhe uma posição para mutação\n",
    "        s0[mutate] = 1  if s0[mutate] == 0 else 0 # Troca conteúdo\n",
    "    else:\n",
    "        s0 = cromosome[nextGen] "
   ]
  },
  {
   "cell_type": "code",
   "execution_count": 14,
   "metadata": {},
   "outputs": [
    {
     "name": "stdout",
     "output_type": "stream",
     "text": [
      "Best value: 115.0 best cromosome [1 1 1 1 0 0 0 0 1 1 1 1 0 0 0 0] best combination of variables [5.0, -5.0, 5.0, -5.0]\n"
     ]
    },
    {
     "data": {
      "image/png": "[encoded data removed]",
      "text/plain": [
       "<Figure size 432x288 with 1 Axes>"
      ]
     },
     "metadata": {
      "needs_background": "light"
     },
     "output_type": "display_data"
    }
   ],
   "source": [
    "best = score_fit[np.argmax(score)]\n",
    "best_varb = cromo(best)\n",
    "best_value = fy(best_varb[0],best_varb[1],best_varb[2],best_varb[3])\n",
    "best_var = [fc(best_varb[0],exp),fc(best_varb[1],exp),fc(best_varb[2],exp),fc(best_varb[3],exp)]\n",
    "print(f'Best value: {best_value} best cromosome {best} best combination of variables {best_var}')\n",
    "plt.plot(score)\n",
    "plt.show()"
   ]
  },
  {
   "cell_type": "markdown",
   "metadata": {},
   "source": [
    "# Terceiro exercício\n",
    "\n",
    "Sabe-se que as posições das rainhas devem diferir em linha ou coluna. Para que isso aconteça foi utilizado apenas a reprentação da rainha em cada coluna, incrementando a linha em uma unidade o algoritmo genético é responsável por verificar apenas a diagonal.\n",
    "\n",
    "Então para esse exercício foi criado uma lista de posição da coluna de 0 até tamanho máximo do tabuleiro. Como uma rainha não fica na mesma linha então teremos em cada linha pelo menos uma rainha, removendo a necessidade de representar a linha. \n",
    "\n",
    "Cromossomo inicial seria `[0,1,2,3,4,5,6,7]` e um outro aleatório.\n",
    "\n",
    "Crossover é feito escolhendo dois pontos distintos do cromossomo.\n",
    "\n",
    "c1 = primeira posição do crossover , exemplo 2\n",
    "\n",
    "c2 = segunda posição do crossover , exemplo 5\n",
    "\n",
    "pai1 = `[0,1,2,3,4,5,6,7]` \n",
    "\n",
    "pai2 = `[7,6,5,4,3,2,1,0]` \n",
    "\n",
    "filho1 = [0,1,**5,4,3,2**,6,7] \n",
    "\n",
    "filho2 = [7,6,**2,3,4,5**,1,0] \n",
    "\n",
    "Mutação acontece trocando duas posições aleatóriamente\n",
    "\n",
    "filho1 = [**7**,1,5,4,3,2,6,**0**] \n",
    "\n",
    "filho2 = [7,6,2,**4**,**3**,5,1,0] \n",
    "\n",
    "Função objetiva retorna o valor de rainhas que tem em sua diagonal outra rainha\n",
    "\n",
    "Se score do filho for igual 0 quer dizer que as posições são soluções e condição de parada é atingida."
   ]
  },
  {
   "cell_type": "code",
   "execution_count": 23,
   "metadata": {},
   "outputs": [],
   "source": [
    "def start(tamanho_do_tabuleiro=8):\n",
    "    p1 = np.arange(tamanho_do_tabuleiro)\n",
    "    p2 = p1.copy()\n",
    "    np.random.shuffle(p2)\n",
    "    return p1,p2\n",
    "def two_random_point(tamanho_do_tabuleiro=8):\n",
    "    c1 = np.random.randint(tamanho_do_tabuleiro)\n",
    "    c2 = np.random.randint(tamanho_do_tabuleiro)\n",
    "    return c1,c2\n",
    "def crossover(p1,p2,tamanho_do_tabuleiro=8):\n",
    "    c1,c2 = two_random_point()\n",
    "    f1 = np.array(list(p1[0:c1]) +list(p2[c1:c2])+ list(p1[c2:]))\n",
    "    f2 = np.array(list(p2[0:c1]) +list(p1[c1:c2])+ list(p2[c2:]))\n",
    "    return f1,f2\n",
    "def mutation(f,tamanho_do_tabuleiro=8):\n",
    "    r1,r2 = two_random_point(tamanho_do_tabuleiro)\n",
    "    f[r1], f[r2] = f[r2], f[r1]\n",
    "    return f "
   ]
  },
  {
   "cell_type": "code",
   "execution_count": 26,
   "metadata": {},
   "outputs": [],
   "source": [
    "def obj_fun(f):\n",
    "    diagonal = 0\n",
    "    for row,column in enumerate(f):\n",
    "        for check in range(row+1,len(f)):\n",
    "            delta_row = np.abs(row - check)\n",
    "            delta_column = np.abs(column - f[check])\n",
    "            if delta_row == delta_column:\n",
    "                diagonal = diagonal + 1\n",
    "    return diagonal"
   ]
  },
  {
   "cell_type": "code",
   "execution_count": 36,
   "metadata": {},
   "outputs": [
    {
     "name": "stdout",
     "output_type": "stream",
     "text": [
      "Best result [7 1 4 2 0 6 3 5]\n"
     ]
    }
   ],
   "source": [
    "board_size= 8\n",
    "M = 1000\n",
    "s1, s2 = start(board_size)\n",
    "s3, s4 = start(board_size)\n",
    "result = []\n",
    "score = []\n",
    "last_best = None\n",
    "for i in range(M):\n",
    "    crossover(s1,s2,board_size)\n",
    "    crossover(s3,s4,board_size)\n",
    "    s1 = mutation(s1,board_size)\n",
    "    s2 = mutation(s2,board_size)\n",
    "    s3 = mutation(s3,board_size)\n",
    "    s4 = mutation(s4,board_size)\n",
    "    result.append(s1)\n",
    "    result.append(s2)\n",
    "    result.append(s3)\n",
    "    result.append(s4)\n",
    "    score.append(obj_fun(s1))\n",
    "    score.append(obj_fun(s2))\n",
    "    score.append(obj_fun(s3))\n",
    "    score.append(obj_fun(s4))\n",
    "    if np.min(score)  == 0:\n",
    "        print(f'Best result {result[np.argmin(score)]}')\n",
    "        break\n",
    "    else:\n",
    "        last_best = result[np.argmin(score)]\n"
   ]
  },
  {
   "cell_type": "code",
   "execution_count": 37,
   "metadata": {},
   "outputs": [
    {
     "name": "stdout",
     "output_type": "stream",
     "text": [
      "| || || || || || || ||Q|\n",
      "| ||Q|| || || || || || |\n",
      "| || || || ||Q|| || || |\n",
      "| || ||Q|| || || || || |\n",
      "|Q|| || || || || || || |\n",
      "| || || || || || ||Q|| |\n",
      "| || || ||Q|| || || || |\n",
      "| || || || || ||Q|| || |\n",
      "\n"
     ]
    }
   ],
   "source": [
    "board = np.zeros((board_size,board_size))\n",
    "str_board= \"\"\n",
    "for row,col in enumerate(result[np.argmin(score)]):\n",
    "    board[row][col] = 1\n",
    "for i in range(len(result[np.argmin(score)])):\n",
    "    for j in range(len(result[np.argmin(score)])):\n",
    "        if board[i][j] == 1.0:\n",
    "            str_board+='|Q|'\n",
    "        else:\n",
    "            str_board+=\"| |\"\n",
    "    str_board+='\\n'\n",
    "print(str_board)"
   ]
  },
  {
   "cell_type": "markdown",
   "metadata": {},
   "source": [
    "## Segundo exercício\n",
    "\n",
    "O segundo exercício segue a mesma lógica do terceiro mudando apenas a função objetiva. Porque o exercício pede menor distancia passando em todas as cidades.\n",
    "\n",
    "Para isso a função objetiva calcula distancia para cada ordem de cidade que o algoritmo genético busca.\n",
    "\n",
    "```\n",
    "1 -> 2 -> 3 -> 4 -> 5\n",
    "  2    3    3    2\n",
    "```\n",
    "Distância para ir da cidade 1 até 5 seria 10"
   ]
  },
  {
   "cell_type": "code",
   "execution_count": 30,
   "metadata": {},
   "outputs": [],
   "source": [
    "def obj_fun2(f):\n",
    "    i = 1\n",
    "    distance = 0\n",
    "    while i < len(f):\n",
    "        distance += graph[f[i-1]][f[i]]\n",
    "        i+=1\n",
    "    return distance"
   ]
  },
  {
   "cell_type": "code",
   "execution_count": 31,
   "metadata": {},
   "outputs": [
    {
     "name": "stdout",
     "output_type": "stream",
     "text": [
      "Best result 11.0 path=[4 5 2 1 3]\n"
     ]
    }
   ],
   "source": [
    "citys = 5\n",
    "graph = np.zeros((citys,citys))\n",
    "graph[0][1] = 2\n",
    "graph[0][2] = 9\n",
    "graph[0][3] = 3\n",
    "graph[0][4] = 6\n",
    "graph[1][0] = 2\n",
    "graph[1][2] = 4\n",
    "graph[1][3] = 3\n",
    "graph[1][4] = 8\n",
    "graph[2][0] = 9\n",
    "graph[2][1] = 4\n",
    "graph[2][3] = 7\n",
    "graph[2][4] = 3\n",
    "graph[3][0] = 3\n",
    "graph[3][1] = 3 \n",
    "graph[3][2] = 7\n",
    "graph[3][4] = 3\n",
    "graph[4][0] = 6\n",
    "graph[4][1] = 8\n",
    "graph[4][2] = 3\n",
    "graph[4][3] = 3\n",
    "M = 10000\n",
    "s1, s2 = start(citys)\n",
    "result = np.inf\n",
    "best = None\n",
    "plot_score = []\n",
    "for i in range(M):\n",
    "    crossover(s1,s2,citys)\n",
    "    s1 = mutation(s1,citys)\n",
    "    s2 = mutation(s2,citys)\n",
    "    score1 = obj_fun2(s1)\n",
    "    score2 = obj_fun2(s2)\n",
    "    if score1  < result:\n",
    "        result = score1\n",
    "        best = s1\n",
    "        plot_score.append(score1)\n",
    "    elif score2 < result:\n",
    "        result = score2\n",
    "        best = s2\n",
    "        plot_score.append(score2)\n",
    "print(f'Best result {result} path={best+1}')\n",
    "    "
   ]
  },
  {
   "cell_type": "code",
   "execution_count": 32,
   "metadata": {},
   "outputs": [
    {
     "data": {
      "image/png": "[encoded data removed]",
      "text/plain": [
       "<Figure size 432x288 with 1 Axes>"
      ]
     },
     "metadata": {
      "needs_background": "light"
     },
     "output_type": "display_data"
    }
   ],
   "source": [
    "plt.plot(plot_score)\n",
    "plt.grid()\n",
    "plt.show()"
   ]
  },
  {
   "cell_type": "code",
   "execution_count": null,
   "metadata": {},
   "outputs": [],
   "source": []
  },
  {
   "cell_type": "code",
   "execution_count": null,
   "metadata": {},
   "outputs": [],
   "source": []
  }
 ],
 "metadata": {
  "kernelspec": {
   "display_name": "Python 3",
   "language": "python",
   "name": "python3"
  },
  "language_info": {
   "codemirror_mode": {
    "name": "ipython",
    "version": 3
   },
   "file_extension": ".py",
   "mimetype": "text/x-python",
   "name": "python",
   "nbconvert_exporter": "python",
   "pygments_lexer": "ipython3",
   "version": "3.7.7"
  }
 },
 "nbformat": 4,
 "nbformat_minor": 4
}
