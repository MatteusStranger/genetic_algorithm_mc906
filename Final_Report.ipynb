{
  "nbformat": 4,
  "nbformat_minor": 0,
  "metadata": {
    "accelerator": "GPU",
    "colab": {
      "name": "report_maisa.ipynb",
      "provenance": [],
      "collapsed_sections": [],
      "include_colab_link": true
    },
    "kernelspec": {
      "display_name": "Python 3",
      "language": "python",
      "name": "python3"
    },
    "language_info": {
      "codemirror_mode": {
        "name": "ipython",
        "version": 3
      },
      "file_extension": ".py",
      "mimetype": "text/x-python",
      "name": "python",
      "nbconvert_exporter": "python",
      "pygments_lexer": "ipython3",
      "version": "3.7.6"
    }
  },
  "cells": [
    {
      "cell_type": "markdown",
      "metadata": {
        "id": "view-in-github",
        "colab_type": "text"
      },
      "source": [
        "<a href=\"https://colab.research.google.com/github/MatteusStranger/genetic_algorithm_mc906/blob/master/Final_Report.ipynb\" target=\"_parent\"><img src=\"https://colab.research.google.com/assets/colab-badge.svg\" alt=\"Open In Colab\"/></a>"
      ]
    },
    {
      "cell_type": "markdown",
      "metadata": {
        "colab_type": "text",
        "id": "_c9eyrVzZp5u"
      },
      "source": [
        "<div align=\"center\">\n",
        "    <h1> <b>MO416 - IC/Unicamp  </h1>\n",
        "    <h2> <b>Projeto 2 - Comparativo de Abordagem Sexuada e Assexuada de Algoritmos Genéticos na Maximização de Função: aplicação em cenário hospitalar </h2>\n",
        "</div>\n",
        "\n",
        "<table>\n",
        "<tr><td style=\"text-align:left\">Christian Maekawa</td>  <td>231867</td>  </tr>\n",
        "<tr><td style=\"text-align:left\">Giovane de Morais</td>  <td>192683</td>  </tr>\n",
        "<tr><td style=\"text-align:left\">Maisa Silva      </td>  <td>181831</td>  </tr>\n",
        "<tr><td style=\"text-align:left\">Matteus Vargas   </td>  <td>262885</td>  </tr>\n",
        "<tr><td style=\"text-align:left\">Stéfani Fernandes</td>  <td>147939</td>  </tr>\n",
        "</table>"
      ]
    },
    {
      "cell_type": "markdown",
      "metadata": {
        "colab_type": "text",
        "id": "3WyuKH9G_oNE"
      },
      "source": [
        "# 1. Algoritmos Genéticos\n",
        " \n",
        "Algoritmos genéticos tem como base a teoria da evolução das espécies por seleção natural de *Charles Darwin*. O mesmo afirmou que os organismos com maiores chances de sobrevivência são os mais adaptados aos desafios ambientais que está inserido. Este indivíduo, por consequência, gerará um número maior de descendentes que os menos favorecidos, o que se caracteriza por uma espécie de \"seleção\" do meio aos conjunto de indivíduos de uma população. \n",
        " \n",
        "A seleção descrita por Darwin obedece determinados critérios como: os indivíduos de uma mesma espécie não são idênticos entre si; todo indivíduo tem capacidade de reprodução, e de receber mutações, porém o sucesso da descendência será determinada pela adaptabilidade ao ambiente de acordo com as variações genéticas mais vantajosas. \n",
        " \n",
        "- **Cromossomo / Indivíduo**: Sequência de informações.\n",
        "- **Gene**: Informação unitária que compõe o indivíduo.\n",
        "- **População**: Conjunto de indivíduos que serão criados para a solução do Algoritmo Genético.\n",
        "- **Geração**: Nova população gerada por uma interação do Algoritmo Genético.\n",
        "- **Mutação**: Variações que acontecem no corpo do cromossomo que podem ou não serem transferidas para as próximas gerações.\n",
        "- **Crossover**: quaisquer alterações “sexuadas” (troca de informações entre individuos) no cromossomo que sejam transferidas à próxima geração podendo, ou não, causar alterações na população.\n",
        "- **Parâmetros**: atribuições utilizadas para definir novas configurações no comportamento do algoritmo.\n",
        "- **Fitness**: Cálculo da aptidão de indivíduo. Métrica que define o quão o indivíduo está evoluído em relação aos demais cromossomos.\n",
        "- **Otimização**: busca pela minimização ou maximização sem necessidade de testar todas as possibilidades."
      ]
    },
    {
      "cell_type": "markdown",
      "metadata": {
        "colab_type": "text",
        "id": "074EEAJu9zBh"
      },
      "source": [
        "# 2. Problemática\n",
        "\n",
        "Matias Vargas Maekawa Fernandes Moraes e Silva (MVMFMS) é diretor de um hospital que visa atender o máximo de pacientes possível em sua unidade hospitalar. Para isso, ele precisa saber quantos funcionários ele deverá contratar e qual o seu ganho com isso, representado pelo máximo de pacientes atendidos por hora. A sua equipe de T.I. projetou uma solução que toma a quantidade de recepcionistas, técnicos, médicos, enfermeiras na sala de tratamento e enfermeiras na sala de emergência, sendo representadas respectivamente pelas variáveis x1, x2, x3, x4, x5.\n",
        "\n",
        "Em cima disso, a T.I. de MVMFMS baseado em litetaturas utilizou a técnica de metamodelo, por meio das redes neurais, que permitiram a obtenção de uma representação do modelo que foi simulado, reduzindo dessa forma , a necessidade de testar todas as combinações existentes para o problema. Ele é chamado de metamodelo porque os dados que foram utilizados para o treinamentos são alguns dados do espaço amostral de uma simulação que comportam como um modelo real. Esse dados foram gerados baseados no  arranjos de dados Taguchi.\n",
        "\n",
        "Primeiramente, o simulador gera um conjunto de dados que comportam baseado no arranjo de dados de Taguchi. O simulador computa a variável de saída que se pretende otimizar. Posteriormente,com esse arranjo de dados e com a saída que simulador computa é utilizada a técnica de metamodelagem, especificamente aqui redes neurais, o metamodelo é gerado como se fosse um modelo, mas a diferença que geramos um modelo proveniente da simulação. Mas ainda fica a pergunta, quais seriam os melhores valores para tais variáveis para alcançar-se o melhor resultado possível desse metamodelo? É quando entra o tema desse projeto que é aplicar o AG para fazer otimização na busca dos parâmetros e passar uma informação clara e segura para MVMFMS de quantos funcionários ele deve contratar e quantos paciêntes o modelo estima conseguir atender.\n",
        "\n",
        "A proposta deste projeto é prever o número de funcionários necessários para cobrir a área afetada com doença para prever o número de pacientes que podemos curar (y). Foi necessário encontrar o número de funcionários (x1, x2, x3, x4, x5) para maximizar esse número e atender uma região afetada. Maximizar todos os parâmetros não necessariamente é uma solução global e ótima do problema, pois o funcionário são dependências uns dos outros e o fluxo acontece de forma sequencial passando do x1 até x5 se necessário. Também é aconselhavel evitar despesas desnecessárias com muitos funcionários, tempo ocioso que funcionários podem ficar com gargalos. Imagine se existir várias recepcionista e pouco médicos teremos um gargalo no médico. \n",
        "\n",
        "Embora o projeto tenha citações sobre simulação, o escopo do projeto é sobre AG. O projeto usa um conjunto de dados que foi gerado a partir de [[1]](http://www.abepro.org.br/biblioteca/TN_STO_211_253_27544.pdf) que computa uma simulação de modelo hospitalar utilizando arranjo de taguchi. A descrição sobre como modelar um hospital simulado foi obtida em outro artigo sobre como criar um hospital simulado [[2]](https://www.sciencedirect.com/science/article/pii/S1877050912002827?via%3Dihub) o primeiro artigo se baseia nesse artigo para construir o simulador. Os autores do primeiro artigo geram os dados que foi utilizado para criar um metamodelo. Sobre a criação do metamodelo usando redes neurais artificiais com python. O metamodelo é uma meta-representação do modelo real; toda a reprodução foi comparada com os resultados obtidos nos artigos.\n",
        "\n",
        "Está fora do escopo explorar sobre simulação e metamodelo de software. Todas as configurações foram obtidas da literatura e tentaram se reproduzir o cenário mais próximo possível. Foi utilizada a saída da rede artificial como função de aptidão e aplicadas variações nos parâmetros para encontrar solução e compartilhar sobre descobertas. Outros artigos não exploram profundamente os resultados obtidos com algoritmos genéticos.\n",
        "\n",
        "Contudo houve um conflito dentro da equipe de MVMFMS. Uma parte do time acha que deve ser feita a abordagem clássica de um AG, com **fitness**, **seleção dos melhores**, **crossover** e **mutação** e outra parte acha que seria melhor seguir por uma linha diferente usando uma abordagem **assexuada**, uma ideia surgida após diversos debates, que consiste em etapas semelhantes às supracitadas, contudo sem crossover, já que há apenas um pai, mas com muita força na **mutação**. Ambos foram implementados e agora é hora de apresentar para MVMFMS para que o mesmo escolha.\n",
        "\n",
        "A equipe de T.I. de MVMFMS seguiram por duas abordagens diferenciadas: a implementação **\"Clássica**\" e a **\"Assexuada\"**. Apesar de caminharem para o mesmo objetivo, ambos tem diferenças na forma de implementar. \n",
        "\n",
        "As subseções a seguir irão descrever melhor o funcionamento de ambas as implementações.\n",
        "\n",
        "## 2.1. Objetivo\n",
        "\n",
        "Encontrar o número de funcionários necessários para maximizar o número de pacientes atendidos.\n",
        "\n",
        "## 2.2. Modelos Evolutivos Adotado\n",
        "\n",
        "Seguindo a lógica Darwiniana, esta obra se utiliza de dois modelos evolutivos para confecção de seus algoritmos genéticos: Evolução com reprodução através de cruzamento sexual / crossover e evolução com reprodução assexual / auto-reprodução.\n",
        "\n",
        "### 2.2.1. Especificidades e Restrições de Implementação\n",
        "\n",
        "Voltados para a resolução da problemática os algoritmos genéticos devem assumir variáveis que possam descrever o cenário proposto. Cada variável pode assumir apenas um conjunto de valores, que ficam entre o limite inferior e superior de cada um deles, como mostrado na tabela abaixo:\n",
        "\n",
        "|Representação | Variáveis de Decisão | Tipo | Limite Inferior | Limite Superior |\n",
        "|:-------------|:-------------------------------------------:|:-------:|:----------------:|---------------:|\n",
        "|x1            | Número de Recepcionistas                     | Integer |        1         |       3        |\n",
        "|x2            | Número de Doutores                           | Integer |        1         |       4        |\n",
        "|x3            | Número de Técnicos de Laboratório            | Integer |        1         |       5        |\n",
        "|x4            | Número de Enfermeiro(a)s na Sala de Tratamento      | Integer |        1         |       6        |\n",
        "|x5            | Número de Enfermeiro(a)s na Sala de Emergencia      | Integer |        1         |       12       |\n",
        "\n",
        "Estes são as especificações definidas para o hospital e serão utilizados para fazer as buscas em ambos os algoritmos. Esses especificações seguem as mesmas dos artigos.\n",
        "\n",
        "### 2.2.2. Variações nos Parâmetros\n",
        "\n",
        "#### 2.2.2.1. Função de aptidão adotada\n",
        "\n",
        "- Predição da Rede Neural\n",
        "\n",
        "### 2.2.3 Os critérios de avaliação são:\n",
        "\n",
        "* Tamanho da População: numero de individuos\n",
        "\n",
        "* Critérios de Parada: uma vez que o algoritmo genetico pode ser executado e ficar num loop infinito foi definido um critério de parada com um resultado que julga-se satisfatório para parar a execução do algoritmo. No caso deste trabalho o criterio de parada é o numero de gerações preestabelecido.\n",
        "\n",
        "* Técnica de Seleção: seleção por método de \"ranking\" onde são selecionados melhores cromossomos da listagem.\n",
        "\n",
        "* Técnica de Crossover: técnica conhecida como \"single-point\", onde o cromossomo será \"cortado\" em duas partes sendo ambas permutadas entre estes. \n",
        "\n",
        "* Técnica de Mutação: técnica conhecida como \"bit flip rotation\" troca  do valor inteiro da variável de entrada, desenvolvida pelo próprio grupo, define-se chances para ocorrer uma mutação e, caso sim, um gene será alterado aleatóriamente dentro dos limites máximo e mínimo.\n",
        "\n",
        "* Método de Substituição: método conhecido como \"estado uniforme\" onde os pares não gerarão filhos de modo a aumentar a população. A reprodução dos pais terá modelos elitistas onde apenas os dois melhores filhos irão para a próxima geração, substituindo os dois piores, que não se reproduzirão.\n",
        "\n",
        "* Taxa de Mutação: é a taxa de possibilidades da mutação de ocorrer. Neste trabalho é variável de 10% à 90%.\n",
        "\n",
        "* Taxa de Crossover: é taxa de possibilidades do crossover ocorrer. Neste trabalho é 100% para o algoritmo sexuado e 0% para o algoritmo assexuado.\n",
        "\n",
        "Estes critérios de avaliação são a base para o desenvolvimento dos algoritmos geneticos para tal problemática."
      ]
    },
    {
      "cell_type": "markdown",
      "metadata": {
        "id": "hqiFeftnX5zk",
        "colab_type": "text"
      },
      "source": [
        "## 3.1. Metamodelo\n",
        "\n",
        "Antes de iniciar a descrição dos AG's propriamente ditos, iniciaremos rapidamente com o metamodelo. \n",
        "\n",
        "Tudo se inicia com a coleta de dados. Os mesmos foram disponibilizados por [Miranda (2015)](http://www.abepro.org.br/biblioteca/TN_STO_211_253_27544.pdf). \n",
        "\n",
        "O metamodelo foi elaborado com um ANN (Artificial Neural Networks) com 5 neurônios e usando sigmoid como função de ativação essa configuração foi escolhida baseada em artigos que construiram essa configuração e conseguiram reproduzir os resultados gerados pelo simulador. A rede neural é treinada com conjunto de treino de 80% e 20% é separado como teste(não utilizamos para fazer tunning com hiperparâmetros). A partir daí temos um metamodelo que faz a inserção dos dados de entrada do algoritmo genético dentro de uma função chamada de predict e metamolo devolve a saída que serve como resultado da função de fitness. \n",
        "\n",
        "\n",
        "Executando com o dataset disponibilizado, inicialmente, não podemos ver correlação entre variáveis:\n",
        "\n",
        "<img src=\"https://raw.githubusercontent.com/MatteusStranger/genetic_algorithm_mc906/master/img/metamodelo/correlacao.png\"/>\n",
        "\n",
        "Ao visualizar a distribuição, podemos ver que algumas distribuições são balanceadas então para distribuição de treino e teste espera-se uma boa distribuição dos dados. E bastante simetria na distribuição.\n",
        "\n",
        "<img src=\"https://raw.githubusercontent.com/MatteusStranger/genetic_algorithm_mc906/master/img/metamodelo/distribuicao.png\"/>\n",
        "\n",
        "Por fim, o gráfico de treino é possível obsevar que a loss de treino (azul) e loss de test (laranja) são próximos então metamodelo não da sinais de  overfitting.\n",
        "\n",
        "<img src=\"https://raw.githubusercontent.com/MatteusStranger/genetic_algorithm_mc906/master/img/metamodelo/performance.png\"/>\n",
        "\n"
      ]
    },
    {
      "cell_type": "markdown",
      "metadata": {
        "colab_type": "text",
        "id": "ym8JJr7vcu8x"
      },
      "source": [
        "## 3.2. Abordagem Sexuada\n",
        "\n",
        "A abordagem sexuada segue o seguinte roteiro de execução:\n",
        "\n",
        "* É determinada uma quantidade de gerações\n",
        "* Submeta cada população do cromossomo à avaliação de fitness\n",
        "* Selecione os pais, de acordo com os critérios estabelecidos\n",
        "* Faça o crossover\n",
        "* Submeta a mutação\n",
        "* Reinicie o processo até se esgotarem o número de gerações\n",
        "\n",
        "Sua representação em código está abaixo:"
      ]
    },
    {
      "cell_type": "markdown",
      "metadata": {
        "id": "6YVHXcc9WgXQ",
        "colab_type": "text"
      },
      "source": [
        "```python\n",
        "\n",
        "M = Número de gerações\n",
        "\n",
        "for i in range(M):\n",
        "    geracoes.append(i) # Lista de gerações\n",
        "    fitness_score() # Submissão de cada cromossomo à função de fitness\n",
        "    selectparent() # Seleção de pais \n",
        "    crossover(corte) # Execução do crossover\n",
        "    mutation(taxa_mutacao) # Aplicação da mutação\n",
        "    uso_recursos() # Avalia o uso de recursos do sistema\n",
        "```"
      ]
    },
    {
      "cell_type": "markdown",
      "metadata": {
        "id": "t4gEWzDCX5z-",
        "colab_type": "text"
      },
      "source": [
        "Nesse problema, a quantidade de **gerações** pode ser determinada no começo, sendo esse o **CRITÉRIO DE PARADA** do algoritmo. O algoritmo acaba quando ele terminar de executar TODAS as suas gerações estabelecidas. O motivo de ter escolhido essa abordagem é porque para cada tipo de problema  pode exigir mais gerações já que não se sabe o *ÓTIMO GLOBAL*, ou seja, para cada tipo diferente de  problema é necessário número de gerações diferentes. Visto que pode exigir uma busca maior dentro do espaço de busca possível.\n",
        "\n",
        "Também seria possível utilizar outros critérios como variações dos últimos resultado retornados pela função de aptidão para para parar quando houvesse pouca variação nas novas gerações, mas a abordagem escolhida aqui foi a primeira.\n",
        "\n",
        "Por ser um valor parametrizável, é possível testar a solução em função do **número de gerações**. Isso será melhor abordado na seção de **Experimentos**."
      ]
    },
    {
      "cell_type": "markdown",
      "metadata": {
        "id": "nrp_FEL4X50B",
        "colab_type": "text"
      },
      "source": [
        "Estabelecida a forma de loop (definição do número de gerações), a execução começa de fato. A abordagem *sexuada* se inicia com a definição do **TAMANHO DA POPULAÇÃO** que será trabalhada a fim de alcançar os objetivos finais de otimização de variáveis e entregar o número de pacientes atendidos por hora. \n",
        "\n",
        "São instanciados **quatro** cromossomos com **cinco** genes cada, onde cada gene representa uma variável que se busca otimizar:"
      ]
    },
    {
      "cell_type": "markdown",
      "metadata": {
        "id": "GBDHdAjLV80V",
        "colab_type": "text"
      },
      "source": [
        "```python\n",
        "\n",
        "populations = [[3, 1, 3, 3, 10], [1, 3, 5, 2, 9], [2, 2, 3, 4, 12], [3, 2, 5, 6, 5]] # População inicial \n",
        "                                                                                     # e seus respectivos valores\n",
        "\n",
        "# Mapeamento dos genes em função das variáveis que se busca otimizar\n",
        "\n",
        "# [3, 1, 3, 3, 10], [1, 3, 5, 2, 9], [2, 2, 3, 4, 12], [3, 2, 5, 6, 5]\n",
        "#  x1 x2 x3 x4 x5    x1 x2 x3 x4 x5   x1 x2 x3 x4 x5   x1 x2 x3 x4 x5    \n",
        "```"
      ]
    },
    {
      "cell_type": "markdown",
      "metadata": {
        "id": "kPC-ximBX50S",
        "colab_type": "text"
      },
      "source": [
        "Pelo fato da solução trazer interação com o usuário, há uma opção onde o usuário pode mandar gerar uma população aleatória. Caso isso aconteça, é estritamente necessário manter as regras dos limites superiores e inferiores. Por isso, a população inicial é submetida ao seu primeiro ajuste, antes mesmo de começar as operações genéticas. \n",
        "Esse ajuste é para caso uma variável esteja com valor incorreto para sua posição."
      ]
    },
    {
      "cell_type": "markdown",
      "metadata": {
        "id": "5t1SxgeBX50U",
        "colab_type": "text"
      },
      "source": [
        "Exemplo de situação **ERRADA**:"
      ]
    },
    {
      "cell_type": "markdown",
      "metadata": {
        "id": "oTJ-t8gZX50X",
        "colab_type": "text"
      },
      "source": [
        "populations = [3, 1, 3, 3, 10], [1, 3, 5, 2, 9], [2, 2, **12**, 4, 12], [**10**, 2, 5, 6, 5]\n",
        "\n",
        "Os valores em destaque estão **errados**, então devem ser submetidos à correções. Essa correção se chama **ajusta_populacao**, cujo código é esse:"
      ]
    },
    {
      "cell_type": "markdown",
      "metadata": {
        "id": "z5RRbMGpWuMp",
        "colab_type": "text"
      },
      "source": [
        "```python\n",
        "\n",
        "# O ajuste aqui serve para corrigir falhas que possa ter ocorrido na criação\n",
        "# da população inicial, em função dos limites superiores de cada variável\n",
        "def ajusta_populacao(populations):\n",
        "    for i in range(4):\n",
        "        for x in range(5):\n",
        "            # Para cada gene, confere se o seus limites estão de acordo. Se não, mude o valor\n",
        "            if (x == 0 and (populations[i][x] not in range(1, 3))):\n",
        "                populations[i][x] = random.randint(1, 3)\n",
        "            if (x == 1 and (populations[i][x] not in range(1, 4))):\n",
        "                populations[i][x] = random.randint(2, 4)\n",
        "            if (x == 2 and (populations[i][x] not in range(1, 5))):\n",
        "                populations[i][x] = random.randint(3, 5)\n",
        "            if (x == 3 and (populations[i][x] not in range(1, 6))):\n",
        "                populations[i][x] = random.randint(4, 6)\n",
        "            if (x == 4 and (populations[i][x] not in range(1, 12))):\n",
        "                populations[i][x] = random.randint(10, 12)\n",
        "```"
      ]
    },
    {
      "cell_type": "markdown",
      "metadata": {
        "id": "Y2QhrkNwX50o",
        "colab_type": "text"
      },
      "source": [
        "Esse tipo de situação ocorre apenas com a população inicial na geração *0*, já que o crossover e a mutação não permitem que isso volte a se repetir. Essa regra ainda será muito importante."
      ]
    },
    {
      "cell_type": "markdown",
      "metadata": {
        "colab_type": "text",
        "id": "RkGrR7xqqTlW"
      },
      "source": [
        "Uma vez definido um ponto de partida e objetivos para a população, é necessário iniciar um processo evolutivo que, a nível de AG, basicamente se trata da execução de uma ou várias vezes do mesmo, onde a cada rodada é criada uma geração descendente direta de indivíduos. As regras cujo o algoritmo será executado são chamadas de funções de objetivo ou **fitness**."
      ]
    },
    {
      "cell_type": "markdown",
      "metadata": {
        "colab_type": "text",
        "id": "o0n5xds9ryJU"
      },
      "source": [
        "### 3.2.1. Fitness\n",
        "\n",
        "O **fitness_score** é a primeira operação genética realizada aqui:"
      ]
    },
    {
      "cell_type": "markdown",
      "metadata": {
        "id": "0DWuifwUW23D",
        "colab_type": "text"
      },
      "source": [
        "```python\n",
        "\n",
        "M = Número de gerações\n",
        "\n",
        "for i in range(M):\n",
        "    geracoes.append(i)\n",
        "    fitness_score() <---- \n",
        "    selectparent() \n",
        "    crossover(corte)\n",
        "    mutation(taxa_mutacao)\n",
        "    uso_recursos()\n",
        "```"
      ]
    },
    {
      "cell_type": "markdown",
      "metadata": {
        "id": "Jt1Z6w0oX50_",
        "colab_type": "text"
      },
      "source": [
        "Esse procedimento pega cada **cromossomo** da população e o submete à operação de **predict** (predição) do metamodelo. Essa operação retorna um número *float*. Esse número representa aquilo que almejamos, a quantidade de pacientes atendidos por hora, com aquele cromossomo.\n",
        "Terminado de avaliar a população toda, a mesma deve ser **ordenada** em função dos resultados de *fitness*.\n",
        "\n",
        "Dessa maneira, os melhores cromossomos ficam nas primeiras posições, e os piores ficam nas últimas. Essa ordenação será base para seleção dos pais no crossover.\n",
        "Para fins de avaliação no final, o melhor cromossomo, junto com o seu respectivo valor de fitness, não são esquecidos. Eles são armazenados até o fim de todas as gerações, ou seja, para cada geração é eleito um **campeão**\n",
        "\n",
        "Essa **TÉCNICA DE SELEÇÃO** é o chamado **RANKING**, onde os melhores serão os pais."
      ]
    },
    {
      "cell_type": "markdown",
      "metadata": {
        "id": "KcPwBRUeW9Cr",
        "colab_type": "text"
      },
      "source": [
        "```python\n",
        "\n",
        "def fitness_score():\n",
        "    global populations, best\n",
        "    fit_value = [] # Guardam-se os valores de fitness da população\n",
        "    for i in range(len(populations)): # Percorre toda a população\n",
        "        fit_value.append(test.predict(populations[i])) # Submete cada cromossomo à avaliação. Os seus resultados são guardados na lista\n",
        "    fit_value, populations = zip(*sorted(zip(fit_value, populations), reverse=True)) # Os cromossomos são ordenados, do melhor para o pior, em função dos seus resultados da avaliação de fitness\n",
        "    best = fit_value[0] # Eleito o campeão da geração\n",
        "    melhores.append(best) # Vai para lista de campeões\n",
        "```"
      ]
    },
    {
      "cell_type": "markdown",
      "metadata": {
        "colab_type": "text",
        "id": "g1GLzf_grilp"
      },
      "source": [
        "Agora, se não houver quaisquer modificações nos indivíduos, as gerações subsequentes serão exatamente como a inicial. A adição de mecanismos de \"variabilidade genética\" de informações é crucial para a evolução da população. Voltando os olhos para a genética evolutiva de Darwin, compreendemos que é possível obtê-lo através de duas situações: **crossover** e **mutação**."
      ]
    },
    {
      "cell_type": "markdown",
      "metadata": {
        "colab_type": "text",
        "id": "hJFmhSTAsU99"
      },
      "source": [
        "### 3.2.2. Crossover\n",
        "\n",
        "Crossover, é o processo onde ocorre a troca de informações entre indivíduos de uma população. Na biologia este processo é o mecanismo chave na reprodução sexuada, onde dois ou mais indivíduos enviam, recebem ou trocam material genético, sendo responsável pela variabilidade genética. É valido ressaltar que para que o crossover seja efetivo os indivíduos devem ser estruturalmente idênticos.\n",
        "Aqui, pegam-se os dois melhores e os transforam em pais da próxima geração, onde o filho recebe duas partes do cromossomo, uma vinda da **mãe** e outra do **pai**."
      ]
    },
    {
      "cell_type": "markdown",
      "metadata": {
        "id": "sZ4iZFo7XJb3",
        "colab_type": "text"
      },
      "source": [
        "```python\n",
        "\n",
        "M = Número de gerações\n",
        "\n",
        "for i in range(M):\n",
        "    geracoes.append(i)\n",
        "    fitness_score() \n",
        "    selectparent() <---- \n",
        "    crossover(corte)\n",
        "    mutation(taxa_mutacao)\n",
        "    uso_recursos()\n",
        "```"
      ]
    },
    {
      "cell_type": "markdown",
      "metadata": {
        "id": "YJiOXgZxX51h",
        "colab_type": "text"
      },
      "source": [
        "O processo de crossover inicia-se imediatamente após a avaliação de fitness. Primeiro, selecionam-se os pais, através da operação **selectparent**. Esse procedimento captura os dois melhores cromossomos da população (ordenada) e os elege como pais. \n",
        "\n",
        "Por ser algo obrigatório, a **TAXA DE CROSSOVER** é de ~1, já que é certo que os dois melhores cromossomos irão cruzar sendo então, obrigatoriamente, pais nessa geração. Contudo, como será descrito em seguida, eles não gerarão tantos filhos assim."
      ]
    },
    {
      "cell_type": "markdown",
      "metadata": {
        "id": "GUaq7v7AXPId",
        "colab_type": "text"
      },
      "source": [
        "```python\n",
        "\n",
        "def selectparent():\n",
        "    global parents\n",
        "    # global populations , parents\n",
        "    parents = populations[0:2] # São eleitos como pais os dois melhores da geração\n",
        "```"
      ]
    },
    {
      "cell_type": "markdown",
      "metadata": {
        "id": "idx99GSgX51z",
        "colab_type": "text"
      },
      "source": [
        "Pais selecionados, iniciar-se-á o procedimento de crossover:"
      ]
    },
    {
      "cell_type": "markdown",
      "metadata": {
        "id": "4xEZGwrlXTub",
        "colab_type": "text"
      },
      "source": [
        "```python\n",
        "\n",
        "M = Número de gerações\n",
        "\n",
        "for i in range(M):\n",
        "    geracoes.append(i)\n",
        "    fitness_score() \n",
        "    selectparent() \n",
        "    crossover(corte) <---- \n",
        "    mutation(taxa_mutacao)\n",
        "```"
      ]
    },
    {
      "cell_type": "markdown",
      "metadata": {
        "id": "ZY8hOvqLX52F",
        "colab_type": "text"
      },
      "source": [
        "Para criar descendentes, existem algumas **TÉCNICAS DE CROSSOVER**, como um crossover de ponto único, crossover de dois ou vários pontos. A **técnica de crossover** adotada aqui é o *crossover de ponto único* (em inglês, *Single Point*).\n",
        "\n",
        "Para um **crossover de ponto único**, primeiro precisamos selecionar um ponto e depois trocar essas partes divididas por esse ponto entre os cromossomos pais para criar filhos. \n",
        "\n",
        "<img src=\"https://raw.githubusercontent.com/MatteusStranger/genetic_algorithm_mc906/master/img/crossover/crossover.png\"/>"
      ]
    },
    {
      "cell_type": "markdown",
      "metadata": {
        "id": "s3eEV2BaX52H",
        "colab_type": "text"
      },
      "source": [
        "No código:"
      ]
    },
    {
      "cell_type": "markdown",
      "metadata": {
        "id": "JvXn7OJOXYFu",
        "colab_type": "text"
      },
      "source": [
        "```python\n",
        "\n",
        "def crossover(corte):\n",
        "    global parents\n",
        "    cross_point = corte\n",
        "    parents = parents + tuple([(parents[0][0:cross_point + 1] + parents[1][cross_point + 1:6])])\n",
        "    parents = parents + tuple([(parents[1][0:cross_point + 1] + parents[0][cross_point + 1:6])])\n",
        "```"
      ]
    },
    {
      "cell_type": "markdown",
      "metadata": {
        "id": "I2vcE1_6X52c",
        "colab_type": "text"
      },
      "source": [
        "Por conta dessa técnica, o procedimento de crossover recebe como parâmetro um valor chamado *corte*. Esse *corte* é o ponto onde será feito crossover. Na estratégia deste projeto, podem ser valores de 0~4, que corresponde a cada um dos genes no cromossomo (em termos de programação, corresponde as posições no vetor).\n",
        "\n",
        "Uma vez identificado o ponto de corte, tudo o que vier depois desse ponto será permutado entre os pais, gerando dois filhos. Abaixo um exemplo prático para ficar mais claro:"
      ]
    },
    {
      "cell_type": "markdown",
      "metadata": {
        "id": "9jts-IcPX52e",
        "colab_type": "text"
      },
      "source": [
        "corte = 1 (posição 1 no vetor)\n",
        "\n",
        "mae = [1 3|**5 2 9**]\n",
        "\n",
        "pai  = [2 2|**3 4 12**]\n",
        "\n",
        "filho1 = [1 3|**3 4 12**]\n",
        "\n",
        "filho2 = [2 2|**5 2 9**]\n",
        "\n",
        "nova_populacao = [1, 3, 5, 2, 9], [2, 2, 3, 4, 12], [**1, 3, 3, 4, 12**], [**2, 2, 5, 2, 9**]"
      ]
    },
    {
      "cell_type": "markdown",
      "metadata": {
        "id": "uDREEodcX52h",
        "colab_type": "text"
      },
      "source": [
        "Algo a ser notado aqui é, por qual motivo foram gerados apenas dois filhos e não quatro e, ainda por cima, repetem-se os pais para a nova população?\n",
        "\n",
        "O motivo é que aqui é aplicado o **MÉTODO DE SUBSTITUIÇÃO** chamado *Estado Uniforme*, que consiste em levar os melhores da população corrente, substituindo apenas os piores pelos filhos dos melhores.\n",
        "Diferentemente da abordagem **ELITISTA**, aqui o tamanho da população não se expande, já que apenas os piores são substituídos. Não deixa de ser uma forma de **ELITISMO**, mas com características próprias."
      ]
    },
    {
      "cell_type": "markdown",
      "metadata": {
        "colab_type": "text",
        "id": "iMLfos-osshn"
      },
      "source": [
        "### 3.2.3. Mutação\n",
        "\n",
        "Mutação é uma alteração, natural ou artificial, que ocorre na sequencia de informação que forma cada indivíduo, não sendo obrigatória o contato do indivíduo com outros de sua população para sofrer tais alterações. Cabe a ressalva que as mutações podem ser boas (aproximam o indivíduo do ótimo ideal), ruins (afastam o indivíduo do ótimo ideal) ou neutras (mantêm o indivíduo no mesmo estado)."
      ]
    },
    {
      "cell_type": "markdown",
      "metadata": {
        "id": "zp54_KrtXcLC",
        "colab_type": "text"
      },
      "source": [
        "```python\n",
        "\n",
        "M = Número de gerações\n",
        "\n",
        "for i in range(M):\n",
        "    geracoes.append(i)\n",
        "    fitness_score() \n",
        "    selectparent() \n",
        "    crossover(corte)\n",
        "    mutation(taxa_mutacao) <---- \n",
        "```"
      ]
    },
    {
      "cell_type": "markdown",
      "metadata": {
        "id": "_fcMW4U1X52x",
        "colab_type": "text"
      },
      "source": [
        "Aqui, é aplicada uma **chance** de mutação, conhecido também como **TAXA DE MUTAÇÂO**, então pode acontecer de não haver mutações em determinadas gerações.\n",
        "É passado por parâmetro esse valor da taxa de mutação. É gerado um valor entre 0~100 (que corresponde à 0 e 100%) e comparado com essa taxa de mutação. Se forem iguais, o processo de mutação ocorrerá. Senão, essa geração não haverá mutação alguma.\n",
        "\n",
        "A **TÉCNICA DE MUTAÇÃO** empregada aqui foi elaborada especificamente para este problema. Primeiramente, escolhe-se um determinado gene arbitrariamente. Em seguida, passa pela regra dos limites superiores e inferiores, de forma obrigatória. Isso significa que, um determinado gene selecionado, mesmo estando com o seu valor dentro do limite correto, o mesmo será alterado:"
      ]
    },
    {
      "cell_type": "markdown",
      "metadata": {
        "id": "7gt77l_4XggN",
        "colab_type": "text"
      },
      "source": [
        "```python\n",
        "\n",
        "def mutation(taxa_mutacao):\n",
        "    global populations, parents\n",
        "    mute = random.randint(0, 100) # Chance de mutação\n",
        "    if mute == taxa_mutacao: # Compara com a taxa\n",
        "        # Escolhe o gene que passará por mutação\n",
        "        x = random.randint(0, 3) \n",
        "        y = random.randint(0, 4)\n",
        "        # Aplicam-se as regras dos limites inferiores e superiores\n",
        "        if (y == 0):\n",
        "            parents[x][y] = random.randint(1, 3)\n",
        "        if (y == 1):\n",
        "            parents[x][y] = random.randint(1, 4)\n",
        "        if (y == 2):\n",
        "            parents[x][y] = random.randint(1, 5)\n",
        "        if (y == 3):\n",
        "            parents[x][y] = random.randint(1, 6)\n",
        "        if (y == 4):\n",
        "            parents[x][y] = random.randint(1, 12)\n",
        "    \n",
        "    # Gera a população da nova geração\n",
        "    populations = parents\n",
        "```"
      ]
    },
    {
      "cell_type": "markdown",
      "metadata": {
        "colab_type": "text",
        "id": "ose7sYkywaJY"
      },
      "source": [
        "Reinicia-se o processo até terminar as gerações. \n",
        "\n",
        "Terminado, retorna-se o valor da melhor solução e o seu respectivo cromossomo:"
      ]
    },
    {
      "cell_type": "markdown",
      "metadata": {
        "id": "3O6VnHMdXlyI",
        "colab_type": "text"
      },
      "source": [
        "```python\n",
        "\n",
        "print()\n",
        "    bests, melhores_crom = zip(*sorted(zip(melhores, melhores_cromossomos), reverse=True))\n",
        "    print(f\"Melhor resultado : {bests[0]}\")\n",
        "    print()\n",
        "    print(f\"Melhor Cromossomo : {melhores_crom[0]}\")\n",
        "    print()\n",
        "```"
      ]
    },
    {
      "cell_type": "markdown",
      "metadata": {
        "colab_type": "text",
        "id": "nDvUrnBpcu96"
      },
      "source": [
        "## 3.3. Abordagem Assexuada\n",
        "A aboragem assexuada foi uma invenção do grupo de mudar  completamente a forma de fazer a busca, mas obtendo os mesmos resultados do algoritmo clássico.\n",
        "\n",
        "O algoritmo utiliza cromossomo com  representação binária. O cromossomo  inicial pode ser definida pelo usuário.\n",
        "```python\n",
        "s0 = np.array(\n",
        "    [0, 1, 1, 0, 1, 1, 0, 0, 1, 0, 1, 1, 0, 0, 0, 1, 0, 0, 0, 0]\n",
        ")  # Estado inicial\n",
        "```"
      ]
    },
    {
      "cell_type": "markdown",
      "metadata": {
        "id": "s6ZleAvDyrvi",
        "colab_type": "text"
      },
      "source": [
        "### 3.3.1 Auto-reprodução para substituir o cruzamento\n",
        "O algoritmo pega esse único cromossomo e faz auto-reprodução, gerando vários filhos de único pai. A auto-reprodução é uma rotação dos genes até completar uma volta.\n",
        "\n",
        "```python\n",
        "for j in range(len(s0) // 2 + 1):  # Rotaciona até dar uma volta completa\n",
        "                v = cromo(s0.copy())  # quebra em quatro partes\n",
        "                temp_max = fitness(v[0], v[1], v[2], v[3], v[4])  # Retorna a função fitness\n",
        "                fit.append(temp_max)  # guarda resultado fitness\n",
        "                cromosome.append(s0.copy())  # guarda o cromossomo\n",
        " \n",
        "                if (np.min(temp_max) < 0) | (np.median(fit) == np.max(fit)):\n",
        "                    # aplica mutacao para evitar função obj negativa e cromossomo repetido\n",
        "                    pos = np.random.randint(4)  # Escolhe uma das 5 variáveis\n",
        "                    np.random.shuffle(\n",
        "                        v[pos]\n",
        "                    )  # Embaralha os bits de umas da variável (muda numero)\n",
        "                s0 = (\n",
        "                        list(v[0]) + list(v[1]) + list(v[2]) + list(v[3]) + list(v[4])\n",
        "                )  # junta partes\n",
        "                s0 = np.roll(s0, -2) #rotaciona dois genes [0,1,1] => [1,1,0]\n",
        "```\n",
        "### 3.3.2 Mutação enquanto ocorre auto-reprodução\n",
        " Nesse processo é criada uma população e equanto acontece a rotação  pode acontecer uma mutação que muda uma das variável de entrada, x1, x2, x3, x4 ou x5.É utilizada mediana para mutar os cromossomos que aparecem com mais frequência e possíveis cromossomos com valores negativos. O método é escolher umas das variáveis x1, x2, x3, x4 ou x5 e embaralhar.\n",
        "\n",
        " ```python\n",
        "if (np.min(temp_max) < 0) | (np.median(fit) == np.max(fit)):\n",
        "      # aplica mutacao para evitar função obj negativa e cromossomo repetido\n",
        "      pos = np.random.randint(4)  # Escolhe uma das 5 variáveis\n",
        "      np.random.shuffle(\n",
        "          v[pos]\n",
        "      )  # Embaralha os bits de umas da variável (muda numero)\n",
        "  s0 = (\n",
        "          list(v[0]) + list(v[1]) + list(v[2]) + list(v[3]) + list(v[4]) # reconstroi o cromossomo\n",
        " ```\n",
        "### 3.3.3 Seleção dos melhores e evitar os melhores já encontrados\n",
        " O critério de seleção é elitista e aleatória se o resultado obtida pelo elitista é o mesma obtida na geração anterior(evitando ficar preso no ótimo local).\n",
        "\n",
        "```python\n",
        "score.append(np.max(fit))  # Armazena a melhor resultado da geracao\n",
        "score_fit.append(cromosome[np.argmax(fit)])  # Armazena o melhor cromossomo\n",
        "if np.median(score) == np.max(\n",
        "        fit\n",
        "):  # Se resultado eh repetido (moda dos resultados obtidos)\n",
        "    s0 = cromosome[\n",
        "        np.random.randint(len(fit))\n",
        "    ]  # pega outro cromossomo diferente para self.explorar outro espaco\n",
        "else:\n",
        "    s0 = cromosome[np.argmax(fit)]  # Pega o melhor resultado\n",
        "```\n",
        "\n",
        "Ao final é feita conversão do número binário para número inteiro com melhor resultado encontrado.\n",
        "\n",
        "```python\n",
        "best = score_fit[np.argmax(score)]  # pega melhor cromossomo\n",
        "best_varb = cromo(best)  # quebra em 5 variaveis binaria\n",
        "best_value = fitness(\n",
        "    best_varb[0], best_varb[1], best_varb[2], best_varb[3], best_varb[4]\n",
        ")  # Converte para funcao fitness para decimal\n",
        "best_var = [\n",
        "    self.fc(best_varb[0], self.exp, 0).astype(int),\n",
        "    self.fc(best_varb[1], self.exp, 1).astype(int),\n",
        "    self.fc(best_varb[2], self.exp, 2).astype(int),\n",
        "    self.fc(best_varb[3], self.exp, 3).astype(int),\n",
        "    self.fc(best_varb[4], self.exp, 4).astype(int),\n",
        "]  # Converte em 5 variaveis\n",
        "print(\n",
        "    f\"Best value: {best_value} best cromosome {best} best combination of variables {best_var}\"\n",
        ")\n",
        "```"
      ]
    },
    {
      "cell_type": "markdown",
      "metadata": {
        "id": "mO9lphagyZn1",
        "colab_type": "text"
      },
      "source": [
        "  As etapas iniciais são muito semelhantes à abordagem sexuada, entretanto, nessa implementação, é explorada com muita força a mutação de indivíduos, já que aqui o crossover é desprezado, quando ocorre estabilização do desempenho das gerações, e assim não estacionar o algoritmo em um máximo local, já que o risco de **clones**, simplesmente, é real. \n",
        "\n",
        "Espera-se que a abordagem assexuada implementada tenha um melhor desempenho que a sexuada, pois têm maior possibilidade de atingir um máximo global, já que as gerações posteriores continuam fazendo outras buscas que são diferentes dos valores de fitness já obtidos anteriormente."
      ]
    },
    {
      "cell_type": "markdown",
      "metadata": {
        "colab_type": "text",
        "id": "oEavAY5lHUAS"
      },
      "source": [
        "# 4. Experimentos\n",
        "\n",
        "Com o metamodelo instanciado e devidamente treinado e passada as suas avaliações específicas, vem então a execução dos AG's.\n",
        "Lembrando sempre de seguir a regra dos limites superiores de cada variável:\n",
        "\n",
        "|Representação | Variáveis de decisão | Tipo | Limite inferior | Limite superior |\n",
        "|:-------------|:-------------------------------------------:|:-------:|:----------------:|---------------:|\n",
        "|x1 | Número de recepcionistas | Inteiro | 1 | 3 |\n",
        "|x2 | Número de médicos | Inteiro | 1 | 4 |\n",
        "|x3 | Número de técnicos de laboratório | Inteiro | 1 | 5 |\n",
        "|x4 | Número de enfermeiras na sala de tratamento | Inteiro | 1 | 6 |\n",
        "|x5 | Número de enfermeiras na sala de emergência | Inteiro | 1 | 12 |\n",
        "\n",
        "Os parâmetros gerais (comuns à ambas as técnicas) adotados foram:\n",
        "\n",
        "- **População**: conjunto de quatro cromossomos com cinco genes cada.\n",
        "- **Critério de parada de 1000 gerações**: foi uma questão complicada, contudo era muito difícil estabelecer uma métrica de parada para este problema, uma vez que não há certeza absoluta do melhor valor possível. Portanto, foi estabelecido uma quantidade suficientemente grande de gerações para que ele alcance o melhor valor possível com 1000 gerações.\n",
        "- **Fitness**: maximizar o metamodelo, aplicando a função de predição em cada cromossomo.\n",
        "- **Crossover**: na abordagem sexuada foram parametrizados os pontos de corte do cromossomo e o seu comportamento. Na abordagem assexuada não há crossover.\n",
        "- **Técnica de mutação**: Chances de mutação e aplicação da regra dos limites das variáveis.\n",
        "\n",
        "Os itens avaliados foram:\n",
        "- **Comportamento do algoritmo**: o caminho que ele tomou, desde a concepção da população original, focando na variabilidade.\n",
        "- **Valores de fitness alcançado**: análise do intervalo entre o menor e o maior valor alcançado, bem como a geração que houve o pico.\n",
        "- **Determinar quais são as variáveis mais importantes**\n",
        "\n",
        "## 4.1. Algoritmo Genético Sexuado\n",
        "\n",
        "Crossover Fixo no Gene 2, População Fixa e Taxa de Mutação Variável:\n",
        "\n",
        "**Taxa de Mutação em 10%:**\n",
        "\n",
        "Fitness mínimo em 5.7, máximo em 5.95 e 0.25 de desvio / variação.\n",
        "\n",
        "<img src=\"https://github.com/MatteusStranger/genetic_algorithm_mc906/blob/master/tests_results/Sexuado_20_06/c_2_m_10.png?raw=true\"/>\n",
        "\n",
        "Variabilidade alta. Provavelmente o algoritmo encontrou o resultado ideal próximo de 800 gerações.\n",
        "\n",
        "**Taxa de Mutação em 20%:**\n",
        "\n",
        "Fitness mínimo em 5.70, máximo em 5.80 e 0.10 de desvio / variação.\n",
        "\n",
        "<img src=\"https://github.com/MatteusStranger/genetic_algorithm_mc906/blob/master/tests_results/Sexuado_20_06/c_2_m_20.png?raw=true\"/>\n",
        "\n",
        "\n",
        "Variabilidade alta. Provavelmente o algoritmo encontrou o resultado \n",
        "ideal próximo de 450 gerações.\n",
        "\n",
        "**Taxa de Mutação em 30%:**\n",
        "\n",
        "Fitness mínimo em 5.7, máximo em 5.96 e 0.26 de desvio / variação.\n",
        "\n",
        "<img src=\"https://github.com/MatteusStranger/genetic_algorithm_mc906/blob/master/tests_results/Sexuado_20_06/c_2_m_30.png?raw=true\"/>\n",
        "\n",
        "Variabilidade alta. Provavelmente o algoritmo encontrou o resultado ideal próximo de 700 gerações.\n",
        "\n",
        "**Taxa de Mutação em 40%:**\n",
        "\n",
        "Fitness mínimo em 5.7, máximo em 5.79 e 0.09 de desvio / variação.\n",
        "\n",
        "<img src=\"https://github.com/MatteusStranger/genetic_algorithm_mc906/blob/master/tests_results/Sexuado_20_06/c_2_m_40.png?raw=true\"/>\n",
        "\n",
        "Variabilidade baixa Provavelmente o algoritmo encontrou o resultado ideal próximo de 375 gerações.\n",
        "\n",
        "**Taxa de Mutação em 50%:**\n",
        "\n",
        "Fitness mínimo em 5.7, máximo em 5.79 e 0.09 de desvio / variação.\n",
        "\n",
        "<img src=\"https://github.com/MatteusStranger/genetic_algorithm_mc906/blob/master/tests_results/Sexuado_20_06/c_2_m_50.png?raw=true\"/>\n",
        "\n",
        "Variabilidade baixa. Provavelmente o algoritmo encontrou o resultado ideal próximo de 750 gerações.\n",
        "\n",
        "**Taxa de Mutação em 60%:**\n",
        "\n",
        "Fitness mínimo em 5.7, máximo em 5.94 e 0.24 de desvio / variação.\n",
        "\n",
        "<img src=\"https://github.com/MatteusStranger/genetic_algorithm_mc906/blob/master/tests_results/Sexuado_20_06/c_2_m_60.png?raw=true\"/>\n",
        "\n",
        "Variabilidade alta. Provavelmente o algoritmo encontrou o resultado ideal próximo de 900 gerações.\n",
        "\n",
        "**Taxa de Mutação em 70%:**\n",
        "\n",
        "Fitness mínimo em 5.7, máximo em 5.94 e 0.24 de desvio / variação.\n",
        "\n",
        "<img src=\"https://github.com/MatteusStranger/genetic_algorithm_mc906/blob/master/tests_results/Sexuado_20_06/c_2_m_70.png?raw=true\"/>\n",
        "\n",
        "Variabilidade alta. Provavelmente o algoritmo encontrou o resultado ideal próximo de 575 gerações.\n",
        "\n",
        "**Taxa de Mutação em 80%:**\n",
        "\n",
        "Fitness mínimo em 5.7, máximo em 5.78 e 0.08 de desvio / variação.\n",
        "\n",
        "<img src=\"https://github.com/MatteusStranger/genetic_algorithm_mc906/blob/master/tests_results/Sexuado_20_06/c_2_m_80.png?raw=true\"/>\n",
        "\n",
        "Variabilidade baixa. Provavelmente o algoritmo encontrou o resultado ideal próximo de 850 gerações.\n",
        "\n",
        "**Taxa de Mutação em 90%:**\n",
        "\n",
        "Fitness mínimo em 5.7, máximo em 5.79 e 0.09 de desvio / variação.\n",
        "\n",
        "<img src=\"https://github.com/MatteusStranger/genetic_algorithm_mc906/blob/master/tests_results/Sexuado_20_06/c_2_m_90.png?raw=true\"/>\n",
        "\n",
        "Variabilidade baixa. Provavelmente o algoritmo encontrou o resultado ideal próximo de 850 gerações.\n",
        "\n",
        "Entende-se então, que a mutação é responsável por causar a maior taxa de variabilidade. Entretanto, com altas taxas de mutação, ocorre um efeito contrário de baixa variabilidade dos fitness enquanto mutação com taxas mais baixas gera variabilidade randômica. Isso é evidenciado na literatura pela seguinte lógica: a mutação vai variar de forma randômica o sistema, mas sendo muito alta as probabilidades de geração de genes ruins é maior. É possível observar, também, que variabilidade alta tem mais chances de encontrar maiores fitness. \n",
        "\n",
        "Claramente uma variabilidade baixa impõe que os fitness não serão muito modificados ao longo do tempo. Quando a mutação entra em cena, possibilita uma mudança de cenário entretanto devido a aleatoriedade o aumento da variação não é definido de forma clara. Entretanto com uma alta taxa de mutação, temos uma tendencia a gerar valores “ruins” na mesma quantidade de valores bons. O que mantêm novamente a variabilidade baixa.\n",
        "\n",
        "**Taxa de Mutação Fixa em 50% com População Fixa e Genes variáveis:**\n",
        "\n",
        "**Cromossomos cortados no gene 0:**\n",
        "\n",
        "Fitness em 5.7 e 0 desvio / variação.\n",
        "\n",
        "<img src=\"https://github.com/MatteusStranger/genetic_algorithm_mc906/blob/master/tests_results/Sexuado_20_06/c_0_m_50.png?raw=true\"/>\n",
        "\n",
        "Não existiu variabilidade. Provavelmente o algoritmo encontrou o resultado logo no inicio.\n",
        "\n",
        "**Cromossomos cortados no gene 1:**\n",
        "\n",
        "Fitness em 5.7 e 0 desvio / variação.\n",
        "\n",
        "<img src=\"https://github.com/MatteusStranger/genetic_algorithm_mc906/blob/master/tests_results/Sexuado_20_06/c_1_m_50.png?raw=true\"/>\n",
        "\n",
        "Não existiu variabilidade. Provavelmente o algoritmo encontrou o resultado logo no inicio.\n",
        "\n",
        "**Cromossomos cortados no gene 2:**\n",
        "\n",
        "Fitness mínimo em 5.7, máximo em 5.79 e 0.09 de desvio / variação.\n",
        "\n",
        "<img src=\"https://github.com/MatteusStranger/genetic_algorithm_mc906/blob/master/tests_results/Sexuado_20_06/c_2_m_50.png?raw=true\"/>\n",
        "\n",
        "Variabilidade baixa. Provavelmente o algoritmo encontrou o resultado ideal próximo de 750 gerações.\n",
        "\n",
        "**Cromossomos cortados no gene 3:**\n",
        "\n",
        "Fitness mínimo em 5.7, máximo em 5.78 e 0.08 de desvio / variação.\n",
        "\n",
        "<img src=\"https://github.com/MatteusStranger/genetic_algorithm_mc906/blob/master/tests_results/Sexuado_20_06/c_3_m_50.png?raw=true\"/>\n",
        "\n",
        "Variabilidade baixa. Provavelmente o algoritmo encontrou o resultado ideal próximo de 775 gerações.\n",
        "\n",
        "**Cromossomos cortados no gene 4:**\n",
        "\n",
        "Fitness em 5.7 e 0 desvio / variação.\n",
        "\n",
        "<img src=\"https://github.com/MatteusStranger/genetic_algorithm_mc906/blob/master/tests_results/Sexuado_20_06/c_4_m_50.png?raw=true\"/>\n",
        "\n",
        "Não existiu variabilidade. Provavelmente o algoritmo encontrou o resultado logo no inicio.\n",
        "\n",
        "**Discussão**\n",
        "\n",
        "Numa situação onde existem 5 genes em um cromossomo, verificado que as extremidades (genes 0, 1 e 4) não apresentaram variabilidade, enquanto os genes intermediários (2 e 3) apresentaram baixa variabilidade com a mutação fixa em 50%. Entende-se que utilizar cromossomos das extremidades impossibilita um crossover de boa variabilidade pois a troca de informações entre os indivíduos seria prejudicada pelo disparate de dados trocados. \n",
        "\n",
        "Assim, em reprodução sexuada, a taxa de mutação influencia muito mais na variabilidade de uma população para sua próxima geração do que o crossover.\n",
        "\n",
        "Trazendo a ambientação da problemática do hospital, os testes com algoritmo sexuado deixam claro que o o numero de atendimento simultâneo de pacientes oscila numa faixa de 5,7 à 5,95. Pela problemática, entende-se que a taxa de mutação é necessária para adicionar o elemento de aleatoriedade ambiental do hospital. Existirão ocasiões onde um numero muito grande de pessoas procurará atendimento simultaneamente, sobrecarregando a recepcionista, mas mantendo os médicos e técnicos com o mesmo fluxo de trabalho. Outros casos, os médicos e técnicos podem estar sobrecarregados, porém a recepção estar ociosa. Estas variações aleatórias são corroboradas no algoritmo genético sexuado pela taxa de mutação.\n",
        "\n",
        "A preferencia do algoritmo para variar com os genes 2 (pela problemática os Doutores) e 3 (pela problemática os Técnicos de Laboratório) demonstra que estes profissionais são os mais necessários para o atendimento ao público. Sendo assim, é essencial que o fluxo de pacientes no hospital seja voltado para o antedimento direto com o Doutor e o Técnico de Laboratório. Enquanto recepcionistas, enfermeiros e outros são menos essenciais a maximizar a função de atendimento. \n",
        "\n",
        "## 4.2. Algoritmo Genético Assexuado\n",
        "\n",
        "Crossover 0, População Fixa e Taxa de Mutação Variável:\n",
        "\n",
        "**Taxa de Mutação em 10%:**\n",
        "\n",
        "Fitness mínimo em 2.8, máximo em 5.5 e 2.7 de desvio / variação.\n",
        "\n",
        "<img src=\"https://github.com/MatteusStranger/genetic_algorithm_mc906/blob/master/tests_results/Assexuado_20_06_b/1000_0_10.png?raw=true\"/>\n",
        "\n",
        "Variabilidade alta. Provavelmente o algoritmo encontrou o resultado ideal próximo de 175 gerações.\n",
        "\n",
        "**Taxa de Mutação em 20%:**\n",
        "\n",
        "Fitness mínimo em 0.5, máximo em 5.5 e 5.0 de desvio / variação.\n",
        "\n",
        "<img src=\"https://github.com/MatteusStranger/genetic_algorithm_mc906/blob/master/tests_results/Assexuado_20_06_b/1000_0_20.png?raw=true\"/>\n",
        "\n",
        "Variabilidade alta. Provavelmente o algoritmo encontrou o resultado ideal próximo de 400 gerações.\n",
        "\n",
        "**Taxa de Mutação em 30%:**\n",
        "\n",
        "Fitness mínimo em 1.0, máximo em 5.5 e 4.5 de desvio / variação.\n",
        "\n",
        "<img src=\"https://github.com/MatteusStranger/genetic_algorithm_mc906/blob/master/tests_results/Assexuado_20_06_b/1000_0_30.png?raw=true\"/>\n",
        "\n",
        "Variabilidade alta. Provavelmente o algoritmo encontrou o resultado ideal próximo de 175 gerações.\n",
        "\n",
        "**Taxa de Mutação em 40%:**\n",
        "\n",
        "Fitness mínimo em 1.0, máximo em 5.5 e 4.5 de desvio / variação.\n",
        "\n",
        "<img src=\"https://github.com/MatteusStranger/genetic_algorithm_mc906/blob/master/tests_results/Assexuado_20_06_b/1000_0_40.png?raw=true\"/>\n",
        "\n",
        "Variabilidade alta. Provavelmente o algoritmo encontrou o resultado ideal próximo de 225 gerações.\n",
        "\n",
        "**Taxa de Mutação em 50%:**\n",
        "\n",
        "Fitness mínimo em 1.0, máximo em 5.5 e 4.5 de desvio / variação.\n",
        "\n",
        "<img src=\"https://github.com/MatteusStranger/genetic_algorithm_mc906/blob/master/tests_results/Assexuado_20_06_b/1000_0_50.png?raw=true\"/>\n",
        "\n",
        "Variabilidade alta. Provavelmente o algoritmo encontrou o resultado ideal próximo de 175 gerações.\n",
        "\n",
        "**Taxa de Mutação em 60%:**\n",
        "\n",
        "Fitness mínimo em 2.6, máximo em 5.5 e 2.9 de desvio / variação.\n",
        "\n",
        "<img src=\"https://github.com/MatteusStranger/genetic_algorithm_mc906/blob/master/tests_results/Assexuado_20_06_b/1000_0_60.png?raw=true\"/>\n",
        "\n",
        "Variabilidade alta. Provavelmente o algoritmo encontrou o resultado ideal próximo de 800 gerações.\n",
        "\n",
        "**Taxa de Mutação em 70%:**\n",
        "\n",
        "Fitness mínimo em 2.6, máximo em 5.5 e 2.9 de desvio / variação.\n",
        "\n",
        "<img src=\"https://github.com/MatteusStranger/genetic_algorithm_mc906/blob/master/tests_results/Assexuado_20_06_b/1000_0_70.png?raw=true\"/>\n",
        "\n",
        "Variabilidade alta. Provavelmente o algoritmo encontrou o resultado ideal próximo de 575 gerações.\n",
        "\n",
        "**Taxa de Mutação em 80%:**\n",
        "\n",
        "Fitness mínimo em 1.0, máximo em 5.5 e 4.5 de desvio / variação.\n",
        "\n",
        "<img src=\"https://github.com/MatteusStranger/genetic_algorithm_mc906/blob/master/tests_results/Assexuado_20_06_b/1000_0_80.png?raw=true\"/>\n",
        "\n",
        "Variabilidade alta. Provavelmente o algoritmo encontrou o resultado ideal próximo de 200 gerações.\n",
        "\n",
        "**Taxa de Mutação em 90%:**\n",
        "\n",
        "Fitness mínimo em 1.0, máximo em 5.5 e 4.5 de desvio / variação.\n",
        "\n",
        "<img src=\"https://github.com/MatteusStranger/genetic_algorithm_mc906/blob/master/tests_results/Assexuado_20_06_b/1000_0_10.png?raw=true\"/>\n",
        "\n",
        "Variabilidade alta. Provavelmente o algoritmo encontrou o resultado ideal próximo de 400 gerações.\n",
        "\n",
        "**Discussão**\n",
        "\n",
        "Nota-se que o fitness limite é mais baixo que a sexuada na ordem de 0.45. Entretanto o algoritmo assexuado encontrou o seu melhor resultado melhor \"mais cedo\" na ordem de 50% da sexuada, apresentando uma taxa de variação de 100% a 200% superior à anterior.\n",
        "\n",
        "Diferentemente do sexuado, onde era possível tecer análises em cima do crossover, aqui não há essa operação, então foi retornado o valor do cromossomo *ideal*. É interessante observar o cromossomo que o algoritmo julga como sendo o ideal, ou seja, que irá de fato alcançar o melhor valor de fitness é: **[2 3 4 3 1]**\n",
        "\n",
        "Isso significa que o algoritmo assexuado indica que são necessários:\n",
        "\n",
        "* Dois recepcionistas\n",
        "* Três doutores\n",
        "* Quatro técnicos de laboratório\n",
        "* Três enfermeiros na sala de tratamento\n",
        "* Um enfermeiro na sala de emergência\n",
        "\n",
        "A *necessidade* de determinado funcionário foi relacionado com o seu respectivo limite superior e está discriminado na tabela abaixo. A primeira linha trata-se do resultado gerado e a segunda linha seu respectivo limite superior:\n",
        "\n",
        "|Recepcionistas|Doutores|Técnicos de Laboratório|Enfermeiros na sala de tratamento|Enfermeiros na sala de emergência|\n",
        "|:-------------|:-------------------------------------------:|:-------:|:----------------:|:---------------:|\n",
        "|2|3|4|3|1|\n",
        "|**3**|**4**|**5**|**6**|**12**|\n",
        "\n",
        "Isso mostra que, semelhante ao algoritmo sexuado, as variáveis mais importantes continuam sendo o número de **Doutores** e **Técnicos de laboratório**.\n",
        "\n",
        "## 4.3. Desempenho de Recursos Computacionais\n",
        "\n",
        "Sobre o desempenho de recursos computacionais na execução dos algoritmos, segue abaixo:\n",
        "\n",
        "**Consumo de CPU do Algoritmo Sexuado**\n",
        "\n",
        "<img src=\"https://github.com/MatteusStranger/genetic_algorithm_mc906/blob/master/tests_results/17.06.2020/Sexuado_CPU.png?raw=true\"/>\n",
        "\n",
        "**Consumo de CPU do Algoritmo Assexuado**\n",
        "\n",
        "<img src=\"https://github.com/MatteusStranger/genetic_algorithm_mc906/blob/master/tests_results/17.06.2020/Assexuado_CPU.png?raw=true\"/>\n",
        "\n",
        "Nota-se um consumo de processamento muito maior no algoritmo genético sexuado que o assexuado. Isso se deve ao fato de que, conforme observado pelas gerações, os resultados ótimos são mais encontrados pelo assexuado de forma mais \"rápida\" que no sexuado.\n",
        "\n",
        "## 4.4. Comparativo dos Algoritmos\n",
        "\n",
        "Ambos algoritmos genéticos cumprem o objetivo de encontrar uma melhor correlação de funcionários para o sistema do hospital funcionar com a maximização necessária para o atendimento. Além disso, ambos mostram, com uma diferença de 5 à 10%, o valor de pacientes que podem ser atendidos simultaneamente no hospital com as configurações propostas: algo aproximado de 6.\n",
        "\n",
        "É possível observar que, tanto no algoritmo sexuado quanto o assexuado foi apontado que \"Doutores\" e \"Técnicos de Laboratório\" são os profissionais mais exigidos para maximizar a função de atendimento.\n",
        "\n",
        "A maior distinção entre ambos algoritmos é observada através dos gráficos gerados pela execução de ambos, onde o algoritmo sexuado foi o que garantiu a maior variabilidade genética e, consequentemente, possibilitou que o “fitness” fosse o mais próximo do ideal do que o algoritmo genético assexuado. É possível ratificar, então, que o item variabilidade genética é essencial para o estabelecimento de gerações consideradas mais aptas à seleção natural e a se aproximarem do objetivo proposto inicialmente.\n",
        "\n",
        "Naturalmente, pode-se extrair alguma definições sobre a distinção de tais algoritmos:\n",
        "\n",
        "* O algoritmo sexuado possibilita um resultado mais \"acurado\" por ser maior e apresentar menos variações que o assexuado.\n",
        "\n",
        "* Apesar de menos acurado, o algoritmo assexuado tem menor consumo de poder computacional em sua execução, pois encontra um resultado ótimo aproximadamente na metade do tempo de execução do algoritmo sexuado."
      ]
    },
    {
      "cell_type": "markdown",
      "metadata": {
        "colab_type": "text",
        "id": "1_w1b1ACHVVb"
      },
      "source": [
        "# 5. Conclusão\n",
        "\n",
        "Os algoritmos genéticos, baseados na teoria evolutiva de Darwin, são uteis para a resolução de maximização de funções e na resolução de problemas desta natureza. Utilizando-se de mutação e, para o caso de um algoritmo sexuado, crossover, essa tecnologia é capaz de gerar resultados condizentes à realidade.\n",
        "\n",
        "Analisando os experimentos, percebe-se que a mutação é um fator importante para manutenção da variabilidade dos dados, contudo dentro de um limite. Caso seja muito alta a mutação, o efeito é exatamente o oposto e taxas mais baixas nos trazem resultados mais satisfatórios. No caso da mutação estar bem ajustada, ela impõe mudanças em cenários até então estáticos, \"forçando\" a geração de novos fitness. Na abordagem assexuada sua influência é grande, já que não há crossover, podendo chegar ao ponto de alterar uma geração inteira, podendo não garantir um gráfico ascendente. Em compensação, o melhor valor encontrado é sempre mantido.\n",
        "\n",
        "Quanto ao crossover (apenas a abordagem sexuada possui tal operação) ela nos revela que o \"corte\" no cromossomos, bem nos genes intermediários, entrega melhor variabilidade, o que ocasiona em mais valores de fitness sendo gerados. Como os métodos de seleção e crossover envolvem apenas os melhores de sua geração, esses valores são maiores que os anteriores, portanto a curva no gráfico é ascendente. Já os cortes nos genes dos extremos diminui a variabilidade. Um bom motivo para isso seria o fato de ou o pai ou a mãe enviarem pouquíssimos materiais genéticos para próxima geração.\n",
        "\n",
        "Conforme levantado anteriormente, cada tipo de algoritmo contem suas próprias características, pontos positivos e negativos de implementação. A escolha de um deles para resolução do problema em especifico depende exclusivamente da necessidade do usuário. Se a acurácia e confiabilidade dos dados for estritamente necessária, o algoritmo genético sexuado é o mais recomendado. Enquanto a eficiência de execução cabe ao assexuado."
      ]
    },
    {
      "cell_type": "markdown",
      "metadata": {
        "id": "OPt9ApomtXeB",
        "colab_type": "text"
      },
      "source": [
        "# 6. Referências\n",
        "\n",
        "[1] DE CARVALHO MIRANDA, Rafael et al. Otimização via simulação por metamodelagem: um estudo em casos da área médica. Revista Produção Online, v. 16, n. 3, p. 1058-1078, 2016.\n",
        "\n",
        "[2] CABRERA, Eduardo et al. Simulation optimization for healthcare emergency departments. Procedia Computer Science, v. 9, p. 1464-1473, 2012.\n",
        "\n",
        "[3] NORVIG, P. Russel; INTELLIGENCE, S. Artificial. A modern approach. Prentice Hall, 2002."
      ]
    },
    {
      "cell_type": "markdown",
      "metadata": {
        "id": "saCKxbGm1ymy",
        "colab_type": "text"
      },
      "source": [
        "# 7. Como executar\n",
        "\n",
        "O tutorial de execução da solução encontra-se neste link:\n",
        "\n",
        "https://github.com/MatteusStranger/genetic_algorithm_mc906/blob/master/env/README.md"
      ]
    }
  ]
}