{
 "cells": [
  {
   "cell_type": "markdown",
   "metadata": {
    "colab_type": "text",
    "id": "_c9eyrVzZp5u"
   },
   "source": [
    "<div align=\"center\">\n",
    "    <h1> MO416 - IC/Unicamp  </h1>\n",
    "    <h2> Projeto 2 - Comparativo de Abordagem Sexuada e Assexuada de Algoritmos Genéticos na Maximização de Funções </h2>\n",
    "</div>\n",
    "\n",
    "<table>\n",
    "<tr><td style=\"text-align:left\">Christian Maekawa</td>  <td>231867</td>  </tr>\n",
    "<tr><td style=\"text-align:left\">Giovane de Morais</td>  <td>192683</td>  </tr>\n",
    "<tr><td style=\"text-align:left\">Maisa Silva      </td>  <td>181831</td>  </tr>\n",
    "<tr><td style=\"text-align:left\">Matteus Vargas   </td>  <td>262885</td>  </tr>\n",
    "<tr><td style=\"text-align:left\">Stéfani Fernandes</td>  <td>147939</td>  </tr>\n",
    "</table>"
   ]
  },
  {
   "cell_type": "markdown",
   "metadata": {},
   "source": [
    "# 1 - Introdução\n",
    "\n",
    "Algoritmos genéticos tem como base a teoria da evolução das espécies por seleção natural de Charles Darwin. O mesmo afirmou que os organismos com maiores chances de sobrevivência são os mais adaptados aos desafios ambientais que está inserido. Este indivíduo, por consequência, gerará um número maior de descendentes que os menos favorecidos, o que se caracteriza por uma espécie de “seleção” do meio aos conjunto de indivíduos de uma população. \n",
    "\n",
    "A seleção descrita por Darwin obedece determinados critérios como: os indivíduos de uma mesma espécie não são idênticos entre si; todo indivíduo tem capacidade de reprodução, e de receber mutações, porém o sucesso da descendência será determinada pela adaptabilidade ao ambiente de acordo com as variações genéticas mais vantajosas.\n",
    "\n",
    "Algoritmos Genéticos utilizam a estratégia de seleção natural para resolver problemas que a matemática convencional não consegue, como por exemplo maximização de polinômios.\n"
   ]
  },
  {
   "cell_type": "markdown",
   "metadata": {
    "colab_type": "text",
    "id": "074EEAJu9zBh"
   },
   "source": [
    "# 2 - Problemática \n",
    "\n",
    "Matias Vargas Maekawa Fernandes Moraes e Silva (MVMFMS) é um diretor de hospital que visa atender o máximo de pacientes possível em sua unidade hospitalar. Para isso, ele precisa saber quantos funcionarios ele deverá contratar e qual o seu ganho com isso.\n",
    "\n",
    "A sua equipe técnica projetou uma solução que toma a quantidade de recepcionistas, técnicos, médicos, enfermeiras na sala de tratamento e enfermeiras na sala de emergência, sendo representadas respectivamente pelas variáveis x1, x2, x3, x4, x5.\n",
    "\n",
    "Este problema é baseado em um caso real definido no trabalho de Ahmed e Alkhamis (2009).\n"
   ]
  },
  {
   "cell_type": "markdown",
   "metadata": {
    "colab_type": "text",
    "id": "3WyuKH9G_oNE"
   },
   "source": [
    "# 3 - Algoritmos Genéticos\n",
    "\n",
    "Algoritmos genéticos tem como base a teoria da evolução das espécies por seleção natural de Charles Darwin. O mesmo afirmou que os organismos com maiores chances de sobrevivência são os mais adaptados aos desafios ambientais que está inserido. Este indivíduo, por consequência, gerará um número maior de descendentes que os menos favorecidos, o que se caracteriza por uma espécie de “seleção” do meio aos conjunto de indivíduos de uma população. \n",
    "\n",
    "A seleção descrita por Darwin obedece determinados critérios como: os indivíduos de uma mesma espécie não são idênticos entre si; todo indivíduo tem capacidade de reprodução, e de receber mutações, porém o sucesso da descendência será determinada pela adaptabilidade ao ambiente de acordo com as variações genéticas mais vantajosas. \n",
    "\n",
    "- Cromossomo / Indivíduo – Sequência de informações que resolve ou se aproxima da resolução do problema.\n",
    "- Gene - Informação unitária que compõe o indivíduo.\n",
    "- População – Qualquer grupo de indivíduos que leva (ou vai levar) as informações de cromossomos que serão estudados pelo Algoritmo Genético.\n",
    "- Geração – Nova população gerada por uma execução do Algoritmo Genético.\n",
    "- Mutação - quaisquer alterações “não sexuadas” no cromossomo que sejam transferidas à próxima geração podendo, ou não, causar alterações na população.\n",
    "- Crossover - quaisquer alterações “sexuadas” (troca de informações entre individuos) no cromossomo que sejam transferidas à próxima geração podendo, ou não, causar alterações na população.\n",
    "- Parâmetros – quaisquer informações utilizadas para definir os objetivos da evolução.\n",
    "- Fitness - Cálculo da aptidão de indivíduo. Métrica que define quão “evoluido” um indivíduo está em relação ao objetivo, o quanto ele foi otimizado em relação aos demais da população.\n",
    "- Otimização – processo de execução da evolução da população, através de regras pré definidas, com o objetivo de atingir, ou pelo menos se aproximar, um parâmetro “ideal”. Uma das formas mais comuns de se realizar uma otimização é através da descrição do ambiente de uma ou mais funções matemáticas onde a otimização tem como objetivo busca minimizar ou maximizar as mesmas através da escolha sistemática dos valores de variáveis reais ou inteiras dentro de um conjunto viável.\n"
   ]
  },
  {
   "cell_type": "markdown",
   "metadata": {},
   "source": [
    "# 3.1 Abordagem Sexuada\n",
    "\n",
    "Na abordagem sexuada é realizado o processo de crossover, que gera filhos (próxima geração) pela combinação de genes de dois indivíduos de bom desempenho da geração atual. A seguir são apresentadas duas funções úteis para a execução do algoritmo:\n",
    "\n",
    "* Ajusta_populacao que realizar tratamento de overflow\n",
    "* plotar_grafico que apresenta o gráfico de evolução dos indivíduos\n"
   ]
  },
  {
   "cell_type": "code",
   "execution_count": 0,
   "metadata": {
    "colab": {},
    "colab_type": "code",
    "id": "1FZRVN_GGfn0"
   },
   "outputs": [],
   "source": [
    "# O ajuste aqui serve para corrigir falhas que possa ter ocorrido na criação\n",
    "# da população inicial, em função dos limites superiores de cada variável\n",
    "def ajusta_populacao():\n",
    "    global populations\n",
    "    for i in range(4):\n",
    "        for x in range(5):\n",
    "            if (x == 0):\n",
    "                populations[i][x] = random.randint(1, 3)\n",
    "            if (x == 1):\n",
    "                populations[i][x] = random.randint(2, 4)\n",
    "            if (x == 2):\n",
    "                populations[i][x] = random.randint(3, 5)\n",
    "            if (x == 3):\n",
    "                populations[i][x] = random.randint(4, 6)\n",
    "            if (x == 4):\n",
    "                populations[i][x] = random.randint(10, 12)"
   ]
  },
  {
   "cell_type": "code",
   "execution_count": 0,
   "metadata": {
    "colab": {},
    "colab_type": "code",
    "id": "fQNaie46GoWD"
   },
   "outputs": [],
   "source": [
    "def plotar_grafico(geracoes, scores):\n",
    "    global mem, cpu, pid\n",
    "    aux = []\n",
    "    for i in range(len(scores)):\n",
    "        aux.append(float(scores[i]))\n",
    "\n",
    "    plt.xlabel('Gerações')\n",
    "    plt.ylabel('Fitness')\n",
    "    plt.plot(geracoes, aux)\n",
    "    plt.show()\n",
    "    print()\n",
    "    print(\"Monitoramos o uso de memória e cpu ao longo das gerações, gostaria de ver os gráficos de desempenho?\")\n",
    "    print()\n",
    "    print(\"1 - Sim\")\n",
    "    print(\"0 - Não\")\n",
    "    print()\n",
    "    segue = int(input())\n",
    "    if (segue == 1):\n",
    "        plt.xlabel('Gerações')\n",
    "        plt.ylabel('Memória')\n",
    "        plt.plot(geracoes, mem)\n",
    "        plt.show()\n",
    "\n",
    "        plt.xlabel('Gerações')\n",
    "        plt.ylabel('CPU')\n",
    "        plt.plot(geracoes, cpu)\n",
    "        plt.show()\n"
   ]
  },
  {
   "cell_type": "markdown",
   "metadata": {},
   "source": [
    "### 3.1.1 Cromossomo / Indivíduo\n",
    "\n",
    "O cromosso é um vetor de 5 números inteiros que representam a quantidade de recepcionistas, técnicos, médicos, enfermeiras na sala de tratamento e enfermeiras na sala de emergência."
   ]
  },
  {
   "cell_type": "code",
   "execution_count": 4,
   "metadata": {},
   "outputs": [],
   "source": [
    "def cromo(s0):\n",
    "    \"\"\" Separa cromossomo em 4 partes\"\"\"\n",
    "    vet = []\n",
    "    vet.append(s0[0:4])\n",
    "    vet.append(s0[4:8])\n",
    "    vet.append(s0[8:12])\n",
    "    vet.append(s0[12:16])\n",
    "    vet.append(s0[16:])\n",
    "    return vet"
   ]
  },
  {
   "cell_type": "markdown",
   "metadata": {},
   "source": [
    "### 3.1.2 Seleção\n",
    "\n",
    "Escolhe-se os indíviduos de melhor desempenho, melhor retorno da função fitness."
   ]
  },
  {
   "cell_type": "code",
   "execution_count": 5,
   "metadata": {
    "colab": {},
    "colab_type": "code",
    "id": "Q4Ri3g6vDZ59"
   },
   "outputs": [],
   "source": [
    "# Escolhem-se os pais\n",
    "def selectparent():  \n",
    "    global parents, populations\n",
    "    parents.clear()\n",
    "    parents.append(populations[0])\n",
    "    parents.append(populations[3])\n",
    "    parents.append(populations[1])\n",
    "    parents.append(populations[2])\n",
    "    print(f'Casais formados {parents}')\n",
    "    print()"
   ]
  },
  {
   "cell_type": "markdown",
   "metadata": {},
   "source": [
    "### 3.1.3 Reprodução / CrossOver\n",
    "\n",
    "Geração de indíviduos a partir da combinação dos genes de indíviduos da geração pai. Para formar novos filhos, pega-se a primeira metade da mãe e junta com a segunda metade do pai. O segundo filho, pegam as metades inversas, até serem formados 4 novos filhos, que irão substituir por completo a geração anterior, sem elitismo"
   ]
  },
  {
   "cell_type": "code",
   "execution_count": 6,
   "metadata": {
    "colab": {},
    "colab_type": "code",
    "id": "ElScHnApEb54"
   },
   "outputs": [],
   "source": [
    "def crossover():\n",
    "    global parents, crossover_results, populations\n",
    "    cross_point = 2  # Ponto de corte no cromossomo\n",
    "    crossover_results.clear()\n",
    "    \n",
    "    crossover_results.append(parents[0][0:cross_point + 1] + parents[1][cross_point + 1:])\n",
    "    crossover_results.append(parents[0][cross_point + 1:] + parents[1][0:cross_point + 1])\n",
    "    crossover_results.append(parents[2][0:cross_point + 1] + parents[3][cross_point + 1:])\n",
    "    crossover_results.append(parents[2][cross_point + 1:] + parents[3][0:cross_point + 1])\n",
    "\n",
    "    print()\n",
    "    print(f'Crossover feito: {crossover_results}')"
   ]
  },
  {
   "cell_type": "markdown",
   "metadata": {},
   "source": [
    "### 3.1.4 Mutação\n",
    "\n",
    "O esquema de mutação funciona como um ajuste do crossover apelidado aqui de \"correção genética\", a mutação anda de gene em gene verificando se o limite superior está correto. Caso não esteja, um novo valor, dentro do seu respectivo limite é sorteado, permitindo que a regra dos limites seja mantida"
   ]
  },
  {
   "cell_type": "code",
   "execution_count": 7,
   "metadata": {
    "colab": {},
    "colab_type": "code",
    "id": "FrbYnwf2FMgY"
   },
   "outputs": [],
   "source": [
    "\n",
    "def mutation():\n",
    "    global populations, crossover_results\n",
    "    \n",
    "    mute = random.randint(0, 100)\n",
    "    if mute == 2:\n",
    "        for i in range(4):\n",
    "            for x in range(5):\n",
    "                if (x == 0 and (crossover_results[i][x] not in range(1, 3))):\n",
    "                    crossover_results[i][x] = random.randint(2, 3)\n",
    "\n",
    "                if (x == 1 and (crossover_results[i][x] not in range(1, 4))):\n",
    "                    crossover_results[i][x] = random.randint(3, 4)\n",
    "\n",
    "                if (x == 2 and (crossover_results[i][x] not in range(1, 5))):\n",
    "                    crossover_results[i][x] = random.randint(4, 5)\n",
    "\n",
    "                if (x == 3 and (crossover_results[i][x] not in range(1, 6))):\n",
    "                    crossover_results[i][x] = random.randint(5, 6)\n",
    "\n",
    "                if (x == 4 and (crossover_results[i][x] not in range(1, 12))):\n",
    "                    crossover_results[i][x] = random.randint(6, 12)\n",
    "\n",
    "    populations = crossover_results\n",
    "    print()\n",
    "    print(f'População pós-mutação: {populations}')"
   ]
  },
  {
   "cell_type": "markdown",
   "metadata": {},
   "source": [
    "### 3.1.5 Função Fitness\n",
    "\n",
    "Função que avalia o desempenho de cada indivíduo. Ou seja os cromossomos, que representam os valores das variáveis, maximizam o resultado da função objetivo."
   ]
  },
  {
   "cell_type": "code",
   "execution_count": 8,
   "metadata": {
    "colab": {},
    "colab_type": "code",
    "id": "jV04pzN0BR14"
   },
   "outputs": [],
   "source": [
    "def fitness_score():  \n",
    "    global populations, best, melhores_scores, melhores_cromossomos, scores, geracoes\n",
    "    fit_value = []\n",
    "    print()\n",
    "    for i in range(len(populations)):\n",
    "        \n",
    "        # Aqui é aplicada a predição com cada um dos cromossomos da população.\n",
    "        # Seu resultado é guardado em uma lista\n",
    "        fit_value.append(test.predict(populations[i]))  \n",
    "        \n",
    "\n",
    "    print(f'Valores de fitness: {fit_value}')\n",
    "    print()\n",
    "    \n",
    "    # Associa-se os melhores cromossomos aos seus scores, ordenado pelo score\n",
    "    fit_value, populations = zip(*sorted(zip(fit_value, populations), reverse=True))\n",
    "    # Variável que guarda o melhor desempenho da geração\n",
    "    best = fit_value[0] \n",
    "    # População ordenada pelo score, do melhor ao pior. Esse esquema será base para o crossover\n",
    "    print( f'População ordenada por score: {populations}')  \n",
    "    scores.append(best)\n",
    "    # Guardam os scores ordenados\n",
    "    melhores_scores.append(best)  \n",
    "    # Guarda o melhor cromossomo da geração\n",
    "    melhores_cromossomos.append(populations[0])  "
   ]
  },
  {
   "cell_type": "markdown",
   "metadata": {},
   "source": [
    "### 3.1.6 Execução do AG\n",
    "\n",
    "Algoritmo que executará o Algoritmo Genético"
   ]
  },
  {
   "cell_type": "code",
   "execution_count": 15,
   "metadata": {
    "colab": {
     "base_uri": "https://localhost:8080/",
     "height": 251
    },
    "colab_type": "code",
    "id": "RvsiOW2iGqVM",
    "outputId": "6901b0e0-cb07-4f10-a783-c058f71f636a"
   },
   "outputs": [
    {
     "ename": "NameError",
     "evalue": "ignored",
     "output_type": "error",
     "traceback": [
      "\u001b[0;31m---------------------------------------------------------------------------\u001b[0m",
      "\u001b[0;31mNameError\u001b[0m                                 Traceback (most recent call last)",
      "\u001b[0;32m<ipython-input-15-52f31292c275>\u001b[0m in \u001b[0;36m<module>\u001b[0;34m()\u001b[0m\n\u001b[0;32m----> 1\u001b[0;31m \u001b[0mM\u001b[0m \u001b[0;34m=\u001b[0m \u001b[0mgenerations\u001b[0m\u001b[0;34m(\u001b[0m\u001b[0;34m)\u001b[0m\u001b[0;34m\u001b[0m\u001b[0;34m\u001b[0m\u001b[0m\n\u001b[0m\u001b[1;32m      2\u001b[0m \u001b[0majusta_populacao\u001b[0m\u001b[0;34m(\u001b[0m\u001b[0;34m)\u001b[0m  \u001b[0;31m# O ajuste aqui serve para corrigir falhas que possa ter ocorrido na criação\u001b[0m\u001b[0;34m\u001b[0m\u001b[0;34m\u001b[0m\u001b[0m\n\u001b[1;32m      3\u001b[0m \u001b[0;31m# da população inicial, em função dos limites superiores de cada variável\u001b[0m\u001b[0;34m\u001b[0m\u001b[0;34m\u001b[0m\u001b[0;34m\u001b[0m\u001b[0m\n\u001b[1;32m      4\u001b[0m \u001b[0;32mfor\u001b[0m \u001b[0mi\u001b[0m \u001b[0;32min\u001b[0m \u001b[0mrange\u001b[0m\u001b[0;34m(\u001b[0m\u001b[0mM\u001b[0m\u001b[0;34m)\u001b[0m\u001b[0;34m:\u001b[0m\u001b[0;34m\u001b[0m\u001b[0;34m\u001b[0m\u001b[0m\n\u001b[1;32m      5\u001b[0m     \u001b[0mgeracoes\u001b[0m\u001b[0;34m.\u001b[0m\u001b[0mappend\u001b[0m\u001b[0;34m(\u001b[0m\u001b[0mi\u001b[0m\u001b[0;34m)\u001b[0m\u001b[0;34m\u001b[0m\u001b[0;34m\u001b[0m\u001b[0m\n",
      "\u001b[0;31mNameError\u001b[0m: name 'generations' is not defined"
     ]
    }
   ],
   "source": [
    "M = generations()\n",
    "ajusta_populacao()  # O ajuste aqui serve para corrigir falhas que possa ter ocorrido na criação\n",
    "# da população inicial, em função dos limites superiores de cada variável\n",
    "for i in range(M):\n",
    "    geracoes.append(i)\n",
    "    print()\n",
    "    print()\n",
    "    print(\n",
    "        f'-------------------------------------- Iniciando o AG, geração {i} --------------------------------------')\n",
    "    print()\n",
    "    print()\n",
    "    print(f'População inicial da geração {i}: {populations}')\n",
    "    print()\n",
    "    print('-------------------------------------- Aplicando o fitness --------------------------------------')\n",
    "    fitness_score()\n",
    "    print()\n",
    "    print('-------------------------------------- Selecionando os pais --------------------------------------')\n",
    "    selectparent()\n",
    "    print()\n",
    "    print('-------------------------------------- Aplicando o crossover --------------------------------------')\n",
    "    print()\n",
    "    crossover()\n",
    "    print('-------------------------------------- Aplicando a mutação --------------------------------------')\n",
    "    mutation()\n",
    "    print()\n",
    "    uso_recursos()\n",
    "\n",
    "print()\n",
    "# Informa para o usuário os resultados\n",
    "melhores_scores, melhores_cromossomos = zip(*sorted(zip(melhores_scores, melhores_cromossomos), reverse=True))\n",
    "plotar_grafico(geracoes, scores)\n",
    "print(f'Melhor fitness {melhores_scores[0]}')\n",
    "print()\n",
    "print(f'Melhor cromossomo {melhores_cromossomos[0]}')\n",
    "print()"
   ]
  },
  {
   "cell_type": "markdown",
   "metadata": {},
   "source": [
    "# 3.2 Abordagem Assexuada\n",
    "\n",
    "Na abordagem assexuada os indivíduos da geração filha são gerados por um único pai, através de mudança dos genes do melhor indíviduo da geração pai. Nossa implementação explora a mutação de indivíduos quando ocorre estabilização do desempenho das gerações, e assim não estacionar o algoritmo em um máximo local. Por isso, espera-se que a abordagem assexuada implementada tenha um melhor desempenho que a sexuada, pois têm maior possibilidade de atingir um máximo global."
   ]
  },
  {
   "cell_type": "code",
   "execution_count": 3,
   "metadata": {},
   "outputs": [
    {
     "ename": "NameError",
     "evalue": "name 'np' is not defined",
     "output_type": "error",
     "traceback": [
      "\u001b[0;31m---------------------------------------------------------------------------\u001b[0m",
      "\u001b[0;31mNameError\u001b[0m                                 Traceback (most recent call last)",
      "\u001b[0;32m<ipython-input-3-463584063a6b>\u001b[0m in \u001b[0;36masync-def-wrapper\u001b[0;34m()\u001b[0m\n\u001b[1;32m      4\u001b[0m     \u001b[0mlow_bounds\u001b[0m \u001b[0;34m=\u001b[0m \u001b[0mnp\u001b[0m\u001b[0;34m.\u001b[0m\u001b[0marray\u001b[0m\u001b[0;34m(\u001b[0m\u001b[0;34m[\u001b[0m\u001b[0;36m1\u001b[0m\u001b[0;34m,\u001b[0m \u001b[0;36m1\u001b[0m\u001b[0;34m,\u001b[0m \u001b[0;36m1\u001b[0m\u001b[0;34m,\u001b[0m \u001b[0;36m1\u001b[0m\u001b[0;34m,\u001b[0m \u001b[0;36m1\u001b[0m\u001b[0;34m]\u001b[0m\u001b[0;34m)\u001b[0m\u001b[0;34m\u001b[0m\u001b[0;34m\u001b[0m\u001b[0m\n\u001b[1;32m      5\u001b[0m     \u001b[0mhigh_bounds\u001b[0m \u001b[0;34m=\u001b[0m \u001b[0mnp\u001b[0m\u001b[0;34m.\u001b[0m\u001b[0marray\u001b[0m\u001b[0;34m(\u001b[0m\u001b[0;34m[\u001b[0m\u001b[0;36m3\u001b[0m\u001b[0;34m,\u001b[0m \u001b[0;36m4\u001b[0m\u001b[0;34m,\u001b[0m \u001b[0;36m5\u001b[0m\u001b[0;34m,\u001b[0m \u001b[0;36m6\u001b[0m\u001b[0;34m,\u001b[0m \u001b[0;36m12\u001b[0m\u001b[0;34m]\u001b[0m\u001b[0;34m)\u001b[0m\u001b[0;34m\u001b[0m\u001b[0;34m\u001b[0m\u001b[0m\n\u001b[0;32m----> 6\u001b[0;31m     \u001b[0mquantizations\u001b[0m \u001b[0;34m=\u001b[0m \u001b[0;34m(\u001b[0m\u001b[0mhigh_bounds\u001b[0m \u001b[0;34m-\u001b[0m \u001b[0mlow_bounds\u001b[0m\u001b[0;34m)\u001b[0m \u001b[0;34m/\u001b[0m \u001b[0;34m(\u001b[0m\u001b[0;36m2\u001b[0m \u001b[0;34m**\u001b[0m \u001b[0;36m4\u001b[0m \u001b[0;34m-\u001b[0m \u001b[0;36m1\u001b[0m\u001b[0;34m)\u001b[0m  \u001b[0;31m# quantização\u001b[0m\u001b[0;34m\u001b[0m\u001b[0;34m\u001b[0m\u001b[0m\n\u001b[0m\u001b[1;32m      7\u001b[0m     \u001b[0mfc\u001b[0m \u001b[0;34m=\u001b[0m \u001b[0;32mlambda\u001b[0m \u001b[0mx\u001b[0m\u001b[0;34m,\u001b[0m \u001b[0mexp\u001b[0m\u001b[0;34m,\u001b[0m \u001b[0m_type\u001b[0m\u001b[0;34m:\u001b[0m \u001b[0mnp\u001b[0m\u001b[0;34m.\u001b[0m\u001b[0msum\u001b[0m\u001b[0;34m(\u001b[0m\u001b[0mx\u001b[0m \u001b[0;34m*\u001b[0m \u001b[0;36m2\u001b[0m \u001b[0;34m**\u001b[0m \u001b[0mexp\u001b[0m\u001b[0;34m)\u001b[0m \u001b[0;34m*\u001b[0m \u001b[0mquantizations\u001b[0m\u001b[0;34m[\u001b[0m\u001b[0m_type\u001b[0m\u001b[0;34m]\u001b[0m \u001b[0;34m+\u001b[0m \u001b[0mlow_bounds\u001b[0m\u001b[0;34m[\u001b[0m\u001b[0m_type\u001b[0m\u001b[0;34m]\u001b[0m  \u001b[0;31m# decoficação\u001b[0m\u001b[0;34m\u001b[0m\u001b[0;34m\u001b[0m\u001b[0m\n\u001b[1;32m      8\u001b[0m \u001b[0;34m\u001b[0m\u001b[0m\n",
      "\u001b[0;31mNameError\u001b[0m: name 'np' is not defined"
     ]
    }
   ],
   "source": [
    "########################## Reprodução assexuada #####################################\n",
    "\n",
    "    exp = np.arange(4)\n",
    "    low_bounds = np.array([1, 1, 1, 1, 1])\n",
    "    high_bounds = np.array([3, 4, 5, 6, 12])\n",
    "    quantizations = (high_bounds - low_bounds) / (2 ** 4 - 1)  # quantização\n",
    "    fc = lambda x, exp, _type: np.sum(x * 2 ** exp) * quantizations[_type] + low_bounds[_type]  # decoficação\n",
    "\n",
    "    fy = lambda x1, x2, x3, x4, x5: 1.113 * fc(x2, exp, 1).astype(int) + 0.701 * fc(x2, exp, 1).astype(int) * fc(x3,\n",
    "                                                                                                                 exp,\n",
    "                                                                                                                 2).astype(\n",
    "        int) + 0.207 * fc(x2, exp, 1).astype(int) * fc(x5, exp, 4).astype(int) + 0.021 * fc(x1, exp, 0).astype(\n",
    "        int) * fc(x5, exp, 4).astype(int) - \\\n",
    "                                    0.435 * fc(x2, exp, 1).astype(int) ** 2 - 0.013 * fc(x2, exp, 1).astype(int) * fc(\n",
    "        x5, exp, 4).astype(int) ** 2 - 0.092 * fc(x2, exp, 1).astype(int) * fc(x3, exp, 2).astype(int) ** 2\n",
    "    fm = lambda x1, x2, x3, x4, x5: test.predict(\n",
    "        [fc(x1, exp, 0).astype(int), fc(x2, exp, 1).astype(int), fc(x3, exp, 2).astype(int), fc(x3, exp, 3).astype(int),\n",
    "         fc(x4, exp, 4).astype(int)])[0][0]\n",
    "\n",
    "    s0 = np.array([0, 1, 1, 0,\n",
    "                   1, 1, 0, 0,\n",
    "                   1, 0, 1, 1,\n",
    "                   0, 0, 0, 1,\n",
    "                   0, 0, 0, 0])  # Estado inicial\n",
    "    M = 2000  # Numero de geração\n",
    "    score = []  # melhor resultado da função objetiva\n",
    "    score_fit = []  # Armazena o melhor da geração\n",
    "\n",
    "    for i in range(M):\n",
    "        cromosome = []  # Guarda os cromossomos com crossover\n",
    "        fit = []  # Guarda saída da função objetiva\n",
    "        variables = []  # Guarda a saída de cada variável\n",
    "        for j in range(len(s0) // 2 + 1):  # Rotaciona até dar uma volta completa\n",
    "            v = cromo(s0.copy())  # quebra em quatro partes\n",
    "            temp_max = fm(v[0], v[1], v[2], v[3], v[4])  # Retorna a função objetiva\n",
    "            fit.append(temp_max)  # guarda função objetiva\n",
    "            cromosome.append(s0.copy())  # guarda o cromossomo\n",
    "            variables.append([fc(v[0], exp, 0), fc(v[1], exp, 1),\n",
    "                              fc(v[2], exp, 2), fc(v[3], exp, 3), fc(v[4], exp, 4)])  # Guarda variáveis\n",
    "            if (np.min(temp_max) < 0) | (np.median(fit) == np.max(fit)):\n",
    "                # mutação se função obj negativa resultado repetido\n",
    "                pos = np.random.randint(4)  # Escolhe uma das 4 variáveis\n",
    "                np.random.shuffle(v[pos])  # Embaralha os bits de umas da variável\n",
    "            s0 = list(v[0]) + list(v[1]) + list(v[2]) + list(v[3]) + list(v[4])  # junta partes\n",
    "            s0 = np.roll(s0, -2)  # Faz crossover\n",
    "        nextGen = np.argmax(fit)  # Pega o melhor resultado para próxima geração\n",
    "        score.append(np.max(fit))  # Armazena a melhor função obj\n",
    "        score_fit.append(cromosome[nextGen])  # Armazena o melhor cromossomo\n",
    "        if (np.median(score) == np.max(fit)):\n",
    "            s0 = cromosome[np.random.randint(len(fit))]\n",
    "        else:\n",
    "            s0 = cromosome[np.argmax(fit)]\n",
    "    best = score_fit[np.argmax(score)]\n",
    "    best_varb = cromo(best)\n",
    "    best_value = fm(best_varb[0], best_varb[1], best_varb[2], best_varb[3], best_varb[4])\n",
    "    best_var = [fc(best_varb[0], exp, 0).astype(int), fc(best_varb[1], exp, 1).astype(int),\n",
    "                fc(best_varb[2], exp, 2).astype(int), fc(best_varb[3], exp, 3).astype(int),\n",
    "                fc(best_varb[4], exp, 4).astype(int)]\n",
    "    print(f'Best value: {best_value} best cromosome {best} best combination of variables {best_var}')\n",
    "    plt.plot(score)\n",
    "    plt.show()\n",
    "    print(np.max(score))"
   ]
  },
  {
   "cell_type": "markdown",
   "metadata": {
    "colab_type": "text",
    "id": "oEavAY5lHUAS"
   },
   "source": [
    "# 4 - Experimentos\n",
    "........."
   ]
  },
  {
   "cell_type": "markdown",
   "metadata": {
    "colab_type": "text",
    "id": "1_w1b1ACHVVb"
   },
   "source": [
    "# 5 - Conclusão\n",
    "..........."
   ]
  }
 ],
 "metadata": {
  "accelerator": "GPU",
  "colab": {
   "collapsed_sections": [],
   "name": "Copy of report.ipynb",
   "provenance": [],
   "toc_visible": true
  },
  "kernelspec": {
   "display_name": "Python 3",
   "language": "python",
   "name": "python3"
  },
  "language_info": {
   "codemirror_mode": {
    "name": "ipython",
    "version": 3
   },
   "file_extension": ".py",
   "mimetype": "text/x-python",
   "name": "python",
   "nbconvert_exporter": "python",
   "pygments_lexer": "ipython3",
   "version": "3.6.9"
  }
 },
 "nbformat": 4,
 "nbformat_minor": 1
}
