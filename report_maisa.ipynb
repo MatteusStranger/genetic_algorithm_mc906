{
  "nbformat": 4,
  "nbformat_minor": 0,
  "metadata": {
    "accelerator": "GPU",
    "colab": {
      "name": "report_maisa.ipynb",
      "provenance": [],
      "collapsed_sections": [],
      "toc_visible": true
    },
    "kernelspec": {
      "display_name": "Python 3",
      "language": "python",
      "name": "python3"
    },
    "language_info": {
      "codemirror_mode": {
        "name": "ipython",
        "version": 3
      },
      "file_extension": ".py",
      "mimetype": "text/x-python",
      "name": "python",
      "nbconvert_exporter": "python",
      "pygments_lexer": "ipython3",
      "version": "3.7.6"
    }
  },
  "cells": [
    {
      "cell_type": "markdown",
      "metadata": {
        "colab_type": "text",
        "id": "_c9eyrVzZp5u"
      },
      "source": [
        "<div align=\"center\">\n",
        "    <h1> <b>MO416 - IC/Unicamp  </h1>\n",
        "    <h2> <b>Projeto 2 - Comparativo de Abordagem Sexuada e Assexuada de Algoritmos Genéticos na Maximização de Função: aplicação em cenário hospitalar </h2>\n",
        "</div>\n",
        "\n",
        "<table>\n",
        "<tr><td style=\"text-align:left\">Christian Maekawa</td>  <td>231867</td>  </tr>\n",
        "<tr><td style=\"text-align:left\">Giovane de Morais</td>  <td>192683</td>  </tr>\n",
        "<tr><td style=\"text-align:left\">Maisa Silva      </td>  <td>181831</td>  </tr>\n",
        "<tr><td style=\"text-align:left\">Matteus Vargas   </td>  <td>262885</td>  </tr>\n",
        "<tr><td style=\"text-align:left\">Stéfani Fernandes</td>  <td>147939</td>  </tr>\n",
        "</table>"
      ]
    },
    {
      "cell_type": "markdown",
      "metadata": {
        "colab_type": "text",
        "id": "3WyuKH9G_oNE"
      },
      "source": [
        "# 1. Algoritmos Genéticos\n",
        "\n",
        "Algoritmos genéticos tem como base a teoria da evolução das espécies por seleção natural de Charles Darwin. O mesmo afirmou que os organismos com maiores chances de sobrevivência são os mais adaptados aos desafios ambientais que está inserido. Este indivíduo, por consequência, gerará um número maior de descendentes que os menos favorecidos, o que se caracteriza por uma espécie de “seleção” do meio aos conjunto de indivíduos de uma população. \n",
        "\n",
        "A seleção descrita por Darwin obedece determinados critérios como: os indivíduos de uma mesma espécie não são idênticos entre si; todo indivíduo tem capacidade de reprodução, e de receber mutações, porém o sucesso da descendência será determinada pela adaptabilidade ao ambiente de acordo com as variações genéticas mais vantajosas. \n",
        "\n",
        "- **Cromossomo / Indivíduo** – Sequência de informações que resolve ou se aproxima da resolução do problema.\n",
        "- **Gene** - Informação unitária que compõe o indivíduo.\n",
        "- **População** – Qualquer grupo de indivíduos que leva (ou vai levar) as informações de cromossomos que serão estudados pelo Algoritmo Genético.\n",
        "- **Geração** – Nova população gerada por uma execução do Algoritmo Genético.\n",
        "- **Mutação** - quaisquer alterações “não sexuadas” no cromossomo que sejam transferidas à próxima geração podendo, ou não, causar alterações na população.\n",
        "- **Crossover** - quaisquer alterações “sexuadas” (troca de informações entre individuos) no cromossomo que sejam transferidas à próxima geração podendo, ou não, causar alterações na população.\n",
        "- **Parâmetros** – quaisquer informações utilizadas para definir os objetivos da evolução.\n",
        "- **Fitness** - Cálculo da aptidão de indivíduo. Métrica que define quão “evoluido” um indivíduo está em relação ao objetivo, o quanto ele foi otimizado em relação aos demais da população.\n",
        "- **Otimização** – processo de execução da evolução da população, através de regras pré definidas, com o objetivo de atingir, ou pelo menos se aproximar, um parâmetro “ideal”. Uma das formas mais comuns de se realizar uma otimização é através da descrição do ambiente de uma ou mais funções matemáticas onde a otimização tem como objetivo busca minimizar ou maximizar as mesmas através da escolha sistemática dos valores de variáveis reais ou inteiras dentro de um conjunto viável.\n"
      ]
    },
    {
      "cell_type": "markdown",
      "metadata": {
        "colab_type": "text",
        "id": "074EEAJu9zBh"
      },
      "source": [
        "# 2 - Problemática \n",
        "\n",
        "Matias Vargas Maekawa Fernandes Moraes e Silva (MVMFMS) é um diretor de hospital que visa atender o máximo de pacientes possível em sua unidade hospitalar. Para isso, ele precisa saber quantos funcionarios ele deverá contratar e qual o seu ganho com isso, representado pelo máximo de pacientes atendidos por hora.\n",
        "\n",
        "A sua equipe de T.I. projetou uma solução que toma a quantidade de recepcionistas, técnicos, médicos, enfermeiras na sala de tratamento e enfermeiras na sala de emergência, sendo representadas respectivamente pelas variáveis x1, x2, x3, x4, x5.\n",
        "\n",
        "Em cima disso, a T.I. de MVMFMS desenvolveu um metamodelo que permite a obtenção de um padrão matemático que retrata o modelo de simulação, permitindo assim, a otimização deste modelo matemático, de forma mais rápida que a utilização de um otimizador em conjunto a um simulador a eventos discretos.\n",
        "\n",
        "Primeiro, o modelo que se pretende otimizar é utilizado para gerar um conjunto de dados reais que contenha a variável de saída que se pretende otimizar. Posteriormente, com auxílio de técnicas de metamodelagem, como regressão ou redes neurais, o metamodelo é gerado. Mas ainda fica a pergunta, quais seriam os melhores valores para tais variáveis para alcançar-se o melhor resultado possível desse metamodelo? Aí entra o Algoritmo Genético (AG) que busca fazer esse tipo de otimização e passar uma informação segura para MVMFMS de quantos funcionários ele deve contratar e o seu ganho real.\n",
        "\n",
        "O intuito deste projeto é maximizar o número de pacientes atendidos em um hospital (y), estabelecendo o número de funcionários por setor no hospital (x1, x2, x3, x4, x5). Todas as etapas de averiguação e legitimação do modelo de simulação foram aplicadas, de forma que o modelo representa de forma adequada o sistema real que se busca otimizar.\n",
        "\n",
        "Contudo houve um conflito na equipe de MVMFMS. Uma parte do time acha que deve ser feita a abordagem clássica de um AG, com **crossover** e **mutação** e outra parte acha que seria melhor seguir por uma linha diferente usando uma abordagem **assexuada**. Ambos foram implementados e agora é hora de apresentar para MVMFMS para que o mesmo escolha.\n",
        "\n",
        "Como critério de avaliação estarão sendo medidos os resultados finais de cada um, com populações aleatórias, tempo de execução e custo computacional de cada um deles, mais especificamente **memória RAM** e **CPU**. A avaliação do metamodelo também deve ser mostrada, contudo a importância maior se dá nas metodologias AG. Qual método MVMFMS irá selecionar? As próximas seções trarão maiores detalhes da situação.\n",
        "\n",
        "O cenário e dataset de entrada são baseados em um caso real retratado por Ahmed e Alkhamis (2009), sendo o metamodelo e metodologias de AG diferentes e feitas especificamente para este projeto."
      ]
    },
    {
      "cell_type": "markdown",
      "metadata": {
        "id": "xgtOelX8kSR4",
        "colab_type": "text"
      },
      "source": [
        "## 2.1. Regras\n",
        "\n",
        "O cenário nos traz cinco variáveis: x1, x2, x3, x4 e x5. Entretanto, cada uma delas possuem os seus limites superiores e inferiores, respeitando a seguinte regra:\n",
        "\n",
        "*1≤ x1 ≤ 3*\n",
        "\n",
        "*1≤ x2 ≤ 4*\n",
        "\n",
        "*1≤ x3 ≤ 5*\n",
        "\n",
        "*1≤ x4 ≤ 6*\n",
        "\n",
        "*1≤ x5 ≤ 12*\n",
        "\n",
        "Lembrando sempre de aplicar esta regra, o objetivo final é alcançar a sua maximização:\n",
        "*Max y = f(x1, x2, x3, x4, x5)*\n"
      ]
    },
    {
      "cell_type": "markdown",
      "metadata": {
        "id": "T5xe6miFnfTZ",
        "colab_type": "text"
      },
      "source": [
        "# 3. Implementação\n",
        "\n",
        "Como citado anteriormente, a equipe de T.I. de MVMFMS seguiram por duas linhas diferenciadas: a implementação **\"Clássica**\" e a **assexuada**. Apesar de caminharem para o mesmo objetivo, ambos seguem caminhos diferenciados. O que dá para afirmar como semelhante em ambos é o espaço de busca, que foi implementado com uma certa restrição em um primeiro, contudo preparado para expansão e uso com populações bem maiores.\n",
        "\n",
        "Obviamente, ambos usam um processo de fitness semelhante, que a aplicação do metamodelo em cima dos cromossomos e elencar os melhores. A diferença está nas etapas posteriores de **crossover**, **mutação** e a escolha da próxima geração.\n",
        "\n",
        "Pelo fato também de haver tanta certeza do valor preciso daquilo que seria o máximo, foi estabelecida uma quantidade alta de gerações (2000) para que ele alcançe a estabilidade em determinado momento, sempre tomando cuidado para não ficar *amarrado* em um máximo local.\n",
        "\n",
        "As subseções a seguir irão descrever as implementações.\n"
      ]
    },
    {
      "cell_type": "markdown",
      "metadata": {
        "id": "ym8JJr7vcu8x",
        "colab_type": "text"
      },
      "source": [
        "# 3.1 Abordagem Sexuada\n",
        "\n",
        "\n",
        "A abordagem sexuada inicia-se em gerar uma população inicial de 1 à n (para fins de testes e desempenho estão sendo usados n = 4) indivíduos através da aleatoriedade de informações e definir os chamados ótimos ideais (parâmetros de objetivo) para aquele cenário. Sempre tomando cuidado em aplicar as regras dos limites superiores, como mostrado no trecho de código abaixo:\n"
      ]
    },
    {
      "cell_type": "code",
      "metadata": {
        "colab_type": "code",
        "id": "1FZRVN_GGfn0",
        "colab": {}
      },
      "source": [
        "# O ajuste aqui serve para corrigir falhas que possa ter ocorrido na criação\n",
        "# da população inicial, em função dos limites superiores de cada variável\n",
        "def ajusta_populacao():\n",
        "    global populations\n",
        "    for i in range(4):\n",
        "        for x in range(5):\n",
        "            if (x == 0):\n",
        "                populations[i][x] = random.randint(1, 3)\n",
        "            if (x == 1):\n",
        "                populations[i][x] = random.randint(2, 4)\n",
        "            if (x == 2):\n",
        "                populations[i][x] = random.randint(3, 5)\n",
        "            if (x == 3):\n",
        "                populations[i][x] = random.randint(4, 6)\n",
        "            if (x == 4):\n",
        "                populations[i][x] = random.randint(10, 12)"
      ],
      "execution_count": 0,
      "outputs": []
    },
    {
      "cell_type": "markdown",
      "metadata": {
        "id": "RkGrR7xqqTlW",
        "colab_type": "text"
      },
      "source": [
        "Uma vez definido um ponto de partida e objetivos para a população, é necessário iniciar um processo evolutivo que, a nível de AG, basicamente se trata da execução de uma ou várias vezes do mesmo, onde a cada rodada é criada uma geração descendente direta de indivíduos. As regras cujo o algoritmo será executado são chamadas de funções de objetivo ou **fitness**."
      ]
    },
    {
      "cell_type": "markdown",
      "metadata": {
        "id": "o0n5xds9ryJU",
        "colab_type": "text"
      },
      "source": [
        "## 3.1.1 Fitness\n",
        "\n",
        "O **fitness_score** avalia os cromossomos em função da predição do metamodelo, guarda os valores, elege o melhor da geração e ordena a população atual em função de ranking. Isso será útil no crossover:"
      ]
    },
    {
      "cell_type": "code",
      "metadata": {
        "id": "ruE52fL1sIDI",
        "colab_type": "code",
        "colab": {}
      },
      "source": [
        "def fitness_score():\n",
        "    global populations, best\n",
        "    fit_value = []\n",
        "    for i in range(len(populations)):\n",
        "        fit_value.append(test.predict(populations[i])) # Avalia os cromossomos\n",
        "    fit_value, populations = zip(*sorted(zip(fit_value, populations), reverse=True)) # Guarda os valores e ordena a população\n",
        "    best = fit_value[0] # Eleito o melhor da geração\n",
        "    melhores.append(best)\n"
      ],
      "execution_count": 0,
      "outputs": []
    },
    {
      "cell_type": "markdown",
      "metadata": {
        "id": "g1GLzf_grilp",
        "colab_type": "text"
      },
      "source": [
        "Entretanto, se não ocorrer quaisquer modificações nos indivíduos, as gerações subsequentes serão exatamente como a inicial. A adição de um mecanismo de \"variabilidade genética\" de informações é crucial para a evolução da população. Voltando os olhos para a genética evolutiva de Darwin, compreendemos que é possível obtê-lo através de duas situações: mutação e crossover."
      ]
    },
    {
      "cell_type": "markdown",
      "metadata": {
        "id": "hJFmhSTAsU99",
        "colab_type": "text"
      },
      "source": [
        "## 3.1.2 Crossover\n",
        "\n",
        "Crossover, é o processo onde ocorre a troca de informações entre indivíduos de uma população. Na biologia este processo é o mecanismo chave na reprodução sexuada, onde dois ou mais indivíduos enviam, recebem ou trocam material genético, sendo responsável pela variabilidade genética. É valido ressaltar que para que o crossover seja efetivo os indivíduos devem ser estruturalmente idênticos.\n",
        "Aqui, pegam-se os dois melhores e os transforam em pais da próxima geração, onde o filho recebe duas metades do cromossomo, uma vinda da **mãe** e outra do **pai**:"
      ]
    },
    {
      "cell_type": "code",
      "metadata": {
        "id": "yC91uWpRspJP",
        "colab_type": "code",
        "colab": {}
      },
      "source": [
        "def selectparent():\n",
        "    global parents\n",
        "    # global populations , parents\n",
        "    parents = populations[0:2]\n",
        "\n",
        "\n",
        "def crossover():\n",
        "    global parents\n",
        "    cross_point = random.randint(0, 3)\n",
        "    parents = parents + tuple([(parents[0][0:cross_point + 1] + parents[1][cross_point + 1:6])])\n",
        "    parents = parents + tuple([(parents[1][0:cross_point + 1] + parents[0][cross_point + 1:6])])"
      ],
      "execution_count": 0,
      "outputs": []
    },
    {
      "cell_type": "markdown",
      "metadata": {
        "id": "iMLfos-osshn",
        "colab_type": "text"
      },
      "source": [
        "## 3.1.3 Mutação\n",
        "\n",
        "Mutação é uma alteração, natural ou artificial, que ocorre na sequencia de informação que forma cada indivíduo, não sendo obrigatória o contato do indivíduo com outros de sua população para sofrer tais alterações. Cabe a ressalva que as mutações podem ser boas (aproximam o indivíduo do ótimo ideal), ruins (afastam o indivíduo do ótimo ideal) ou neutras (mantêm o indivíduo no mesmo estado).\n",
        "Aqui, é aplicada uma **chance** de mutação, então pode acontecer de não haver mutações em determinadas gerações. Caso ocorra, o que será feito será uma correção de eventuais erros no crossover, pois no processo anterior pode acontecer de variáveis ficarem com valores que não correspondem ao seu limite. A mutação corrigirá isso:"
      ]
    },
    {
      "cell_type": "code",
      "metadata": {
        "id": "wTRSbioEtPun",
        "colab_type": "code",
        "colab": {}
      },
      "source": [
        "def mutation():\n",
        "    global populations, parents\n",
        "    mute = random.randint(0, 49) # Taxa de mutação entre 0 e 49, o que seria o equivalente à 0 - 49%\n",
        "    if mute == 25: # Chance de mutação\n",
        "        x = random.randint(0, 3) # Escolhe-se uma posição aleatória dentro da matriz para alterar\n",
        "        y = random.randint(0, 4)\n",
        "        # Abaixo, a regra dos limites\n",
        "        if (y == 0):\n",
        "            parents[x][y] = random.randint(1, 3) \n",
        "        if (y == 1):\n",
        "            parents[x][y] = random.randint(1, 4) \n",
        "        if (y == 2):\n",
        "            parents[x][y] = random.randint(1, 5) \n",
        "        if (y == 3):\n",
        "            parents[x][y] = random.randint(1, 6) \n",
        "        if (y == 4):\n",
        "            parents[x][y] = random.randint(1, 12)\n",
        "    populations = parents # Atualiza a nova população"
      ],
      "execution_count": 0,
      "outputs": []
    },
    {
      "cell_type": "markdown",
      "metadata": {
        "id": "ose7sYkywaJY",
        "colab_type": "text"
      },
      "source": [
        "## 3.1.4 Execução\n",
        "\n",
        "Juntam-se todos esses procedimentos e executa M (gerações)vezes na seguinte ordem:\n",
        "\n",
        "\n",
        "1.   Fitness\n",
        "2.   Seleciona pais\n",
        "3.   Crossover\n",
        "4.   Mutação\n",
        "\n",
        "Olhando o código abaixo há um item chamado **uso_recursos()**. Esse procedimento é usado em ambas abordagens, mas será descrito mais à frente.\n",
        "\n",
        "\n",
        "\n"
      ]
    },
    {
      "cell_type": "code",
      "metadata": {
        "id": "Chrcf_-sqpwr",
        "colab_type": "code",
        "colab": {}
      },
      "source": [
        "def execucao():\n",
        "    ajusta_populacao(populations) # Aplica-se a regra dos limites superiores na população inicial\n",
        "    print(f'População inicial {populations}')\n",
        "\n",
        "    M = 2000  # Define o número de gerações\n",
        "    for i in range(M): # Executa as gerações\n",
        "        geracoes.append(i)\n",
        "\n",
        "        fitness_score() # Calcula fitness\n",
        "        selectparent() # Escolhe os pais\n",
        "        crossover() # Cruza os pais escolhidos\n",
        "        mutation() # Aplica mutação\n",
        "        uso_recursos() # Avalia o uso de recursos\n"
      ],
      "execution_count": 0,
      "outputs": []
    },
    {
      "cell_type": "markdown",
      "metadata": {
        "id": "bWNOokxcrsr_",
        "colab_type": "text"
      },
      "source": [
        ""
      ]
    },
    {
      "cell_type": "markdown",
      "metadata": {
        "id": "nDvUrnBpcu96",
        "colab_type": "text"
      },
      "source": [
        "# 3.2 Abordagem Assexuada\n",
        "\n",
        "Na abordagem assexuada os indivíduos da geração seguinte são gerados por um único pai, através de mudança dos genes do melhor indíviduo da geração anterior. As etapas iniciais são muito semelhantes à abordagem sexuada, entretanto, nessa implementação, é explorada com muita força a mutação de indivíduos, já que aqui o crossover é desprezado, quando ocorre estabilização do desempenho das gerações, e assim não estacionar o algoritmo em um máximo local, já que o risco de **clones**, simplesmente, é real. \n",
        "\n",
        "Espera-se que a abordagem assexuada implementada tenha um melhor desempenho que a sexuada, pois têm maior possibilidade de atingir um máximo global, já que as gerações posteriores serão fortemente descentes do melhor pai da geração 0."
      ]
    },
    {
      "cell_type": "code",
      "metadata": {
        "id": "KXMEzGzncu97",
        "colab_type": "code",
        "colab": {}
      },
      "source": [
        "########################## Reprodução assexuada #####################################\n",
        "\n",
        "    exp = np.arange(4)\n",
        "    low_bounds = np.array([1, 1, 1, 1, 1])\n",
        "    high_bounds = np.array([3, 4, 5, 6, 12])\n",
        "    quantizations = (high_bounds - low_bounds) / (2 ** 4 - 1)  # quantização\n",
        "    fc = lambda x, exp, _type: np.sum(x * 2 ** exp) * quantizations[_type] + low_bounds[_type]  # decoficação\n",
        "\n",
        "    fy = lambda x1, x2, x3, x4, x5: 1.113 * fc(x2, exp, 1).astype(int) + 0.701 * fc(x2, exp, 1).astype(int) * fc(x3,\n",
        "                                                                                                                 exp,\n",
        "                                                                                                                 2).astype(\n",
        "        int) + 0.207 * fc(x2, exp, 1).astype(int) * fc(x5, exp, 4).astype(int) + 0.021 * fc(x1, exp, 0).astype(\n",
        "        int) * fc(x5, exp, 4).astype(int) - \\\n",
        "                                    0.435 * fc(x2, exp, 1).astype(int) ** 2 - 0.013 * fc(x2, exp, 1).astype(int) * fc(\n",
        "        x5, exp, 4).astype(int) ** 2 - 0.092 * fc(x2, exp, 1).astype(int) * fc(x3, exp, 2).astype(int) ** 2\n",
        "    fm = lambda x1, x2, x3, x4, x5: test.predict(\n",
        "        [fc(x1, exp, 0).astype(int), fc(x2, exp, 1).astype(int), fc(x3, exp, 2).astype(int), fc(x3, exp, 3).astype(int),\n",
        "         fc(x4, exp, 4).astype(int)])[0][0]\n",
        "\n",
        "    s0 = np.array([0, 1, 1, 0,\n",
        "                   1, 1, 0, 0,\n",
        "                   1, 0, 1, 1,\n",
        "                   0, 0, 0, 1,\n",
        "                   0, 0, 0, 0])  # Estado inicial\n",
        "    M = 2000  # Numero de geração\n",
        "    score = []  # melhor resultado da função objetiva\n",
        "    score_fit = []  # Armazena o melhor da geração\n",
        "\n",
        "    for i in range(M):\n",
        "        cromosome = []  # Guarda os cromossomos com crossover\n",
        "        fit = []  # Guarda saída da função objetiva\n",
        "        variables = []  # Guarda a saída de cada variável\n",
        "        for j in range(len(s0) // 2 + 1):  # Rotaciona até dar uma volta completa\n",
        "            v = cromo(s0.copy())  # quebra em quatro partes\n",
        "            temp_max = fm(v[0], v[1], v[2], v[3], v[4])  # Retorna a função objetiva\n",
        "            fit.append(temp_max)  # guarda função objetiva\n",
        "            cromosome.append(s0.copy())  # guarda o cromossomo\n",
        "            variables.append([fc(v[0], exp, 0), fc(v[1], exp, 1),\n",
        "                              fc(v[2], exp, 2), fc(v[3], exp, 3), fc(v[4], exp, 4)])  # Guarda variáveis\n",
        "            if (np.min(temp_max) < 0) | (np.median(fit) == np.max(fit)):\n",
        "                # mutação se função obj negativa resultado repetido\n",
        "                pos = np.random.randint(4)  # Escolhe uma das 4 variáveis\n",
        "                np.random.shuffle(v[pos])  # Embaralha os bits de umas da variável\n",
        "            s0 = list(v[0]) + list(v[1]) + list(v[2]) + list(v[3]) + list(v[4])  # junta partes\n",
        "            s0 = np.roll(s0, -2)  # Faz crossover\n",
        "        nextGen = np.argmax(fit)  # Pega o melhor resultado para próxima geração\n",
        "        score.append(np.max(fit))  # Armazena a melhor função obj\n",
        "        score_fit.append(cromosome[nextGen])  # Armazena o melhor cromossomo\n",
        "        if (np.median(score) == np.max(fit)):\n",
        "            s0 = cromosome[np.random.randint(len(fit))]\n",
        "        else:\n",
        "            s0 = cromosome[np.argmax(fit)]\n",
        "    best = score_fit[np.argmax(score)]\n",
        "    best_varb = cromo(best)\n",
        "    best_value = fm(best_varb[0], best_varb[1], best_varb[2], best_varb[3], best_varb[4])\n",
        "    best_var = [fc(best_varb[0], exp, 0).astype(int), fc(best_varb[1], exp, 1).astype(int),\n",
        "                fc(best_varb[2], exp, 2).astype(int), fc(best_varb[3], exp, 3).astype(int),\n",
        "                fc(best_varb[4], exp, 4).astype(int)]\n",
        "    print(f'Best value: {best_value} best cromosome {best} best combination of variables {best_var}')\n",
        "    plt.plot(score)\n",
        "    plt.show()\n",
        "    print(np.max(score))"
      ],
      "execution_count": 0,
      "outputs": []
    },
    {
      "cell_type": "markdown",
      "metadata": {
        "colab_type": "text",
        "id": "oEavAY5lHUAS"
      },
      "source": [
        "# 4 - Experimentos\n",
        "........."
      ]
    },
    {
      "cell_type": "markdown",
      "metadata": {
        "colab_type": "text",
        "id": "1_w1b1ACHVVb"
      },
      "source": [
        "# 5 - Conclusão\n",
        "..........."
      ]
    }
  ]
}